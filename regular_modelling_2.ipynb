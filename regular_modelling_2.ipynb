{
 "cells": [
  {
   "cell_type": "code",
   "execution_count": 116,
   "id": "0d22976f-8e82-477b-a942-5308a737d25c",
   "metadata": {},
   "outputs": [],
   "source": [
    "import numpy as np\n",
    "import pandas as pd\n",
    "import seaborn as sns\n",
    "import matplotlib.pyplot as plt\n",
    "\n",
    "from sklearn.preprocessing import MinMaxScaler\n",
    "\n",
    "from sklearn.model_selection import train_test_split\n",
    "\n",
    "import xgboost as xgb\n",
    "\n",
    "import sklearn.metrics as metrics\n",
    "from sklearn.model_selection import KFold\n",
    "from sklearn.model_selection import cross_val_score\n",
    "from sklearn.model_selection import GridSearchCV"
   ]
  },
  {
   "cell_type": "code",
   "execution_count": 117,
   "id": "33786500-c778-4cfa-aa5a-27924d4191e1",
   "metadata": {},
   "outputs": [],
   "source": [
    "def regression_results(y_true, y_pred):\n",
    "    #regression metrics\n",
    "    explained_variance = metrics.explained_variance_score(y_true, y_pred)\n",
    "    mean_absolute_error = metrics.mean_absolute_error(y_true, y_pred)\n",
    "    mse = metrics.mean_squared_error(y_true, y_pred)\n",
    "    mean_squared_log_error = metrics.mean_squared_log_error(y_true, y_pred)\n",
    "    median_absolute_error = metrics.median_absolute_error(y_true, y_pred)\n",
    "    r2 = metrics.r2_score(y_true, y_pred)\n",
    "    \n",
    "    print('explained variance :',round(explained_variance,4))\n",
    "    print('mean squared log error :', round(mean_squared_log_error,4))\n",
    "    print('r2 :',round(r2,4))\n",
    "    print('MAE :',round(mean_absolute_error,4))\n",
    "    print('MSE :',round(mse,4))\n",
    "    print('RMSE :',round(np.sqrt(mse),4))"
   ]
  },
  {
   "cell_type": "code",
   "execution_count": 118,
   "id": "06331984-d1e8-4e99-9456-6d20f59f8530",
   "metadata": {},
   "outputs": [],
   "source": [
    "df = pd.read_csv('featured_data.csv')"
   ]
  },
  {
   "cell_type": "code",
   "execution_count": 119,
   "id": "751aa47c-8ac1-4cdf-9d9a-9dde83565281",
   "metadata": {},
   "outputs": [
    {
     "data": {
      "text/html": [
       "<div>\n",
       "<style scoped>\n",
       "    .dataframe tbody tr th:only-of-type {\n",
       "        vertical-align: middle;\n",
       "    }\n",
       "\n",
       "    .dataframe tbody tr th {\n",
       "        vertical-align: top;\n",
       "    }\n",
       "\n",
       "    .dataframe thead th {\n",
       "        text-align: right;\n",
       "    }\n",
       "</style>\n",
       "<table border=\"1\" class=\"dataframe\">\n",
       "  <thead>\n",
       "    <tr style=\"text-align: right;\">\n",
       "      <th></th>\n",
       "      <th>total</th>\n",
       "      <th>year</th>\n",
       "      <th>day</th>\n",
       "      <th>day_of_week</th>\n",
       "      <th>week_of_year</th>\n",
       "      <th>day^year</th>\n",
       "      <th>daily_avg</th>\n",
       "      <th>monthly_avg</th>\n",
       "      <th>shift_7</th>\n",
       "    </tr>\n",
       "  </thead>\n",
       "  <tbody>\n",
       "    <tr>\n",
       "      <th>0</th>\n",
       "      <td>206.24000</td>\n",
       "      <td>2019</td>\n",
       "      <td>10</td>\n",
       "      <td>4</td>\n",
       "      <td>2</td>\n",
       "      <td>16.617236</td>\n",
       "      <td>218.783329</td>\n",
       "      <td>209.164267</td>\n",
       "      <td>45.37500</td>\n",
       "    </tr>\n",
       "    <tr>\n",
       "      <th>1</th>\n",
       "      <td>241.41700</td>\n",
       "      <td>2019</td>\n",
       "      <td>11</td>\n",
       "      <td>5</td>\n",
       "      <td>2</td>\n",
       "      <td>17.294467</td>\n",
       "      <td>210.604226</td>\n",
       "      <td>209.164267</td>\n",
       "      <td>221.35570</td>\n",
       "    </tr>\n",
       "    <tr>\n",
       "      <th>2</th>\n",
       "      <td>218.08950</td>\n",
       "      <td>2019</td>\n",
       "      <td>14</td>\n",
       "      <td>1</td>\n",
       "      <td>3</td>\n",
       "      <td>18.928349</td>\n",
       "      <td>211.253393</td>\n",
       "      <td>209.164267</td>\n",
       "      <td>254.63450</td>\n",
       "    </tr>\n",
       "    <tr>\n",
       "      <th>3</th>\n",
       "      <td>253.10338</td>\n",
       "      <td>2019</td>\n",
       "      <td>15</td>\n",
       "      <td>2</td>\n",
       "      <td>3</td>\n",
       "      <td>19.375847</td>\n",
       "      <td>214.363986</td>\n",
       "      <td>209.164267</td>\n",
       "      <td>208.07718</td>\n",
       "    </tr>\n",
       "    <tr>\n",
       "      <th>4</th>\n",
       "      <td>304.49430</td>\n",
       "      <td>2019</td>\n",
       "      <td>16</td>\n",
       "      <td>3</td>\n",
       "      <td>3</td>\n",
       "      <td>19.786819</td>\n",
       "      <td>225.923188</td>\n",
       "      <td>209.164267</td>\n",
       "      <td>226.09680</td>\n",
       "    </tr>\n",
       "    <tr>\n",
       "      <th>...</th>\n",
       "      <td>...</td>\n",
       "      <td>...</td>\n",
       "      <td>...</td>\n",
       "      <td>...</td>\n",
       "      <td>...</td>\n",
       "      <td>...</td>\n",
       "      <td>...</td>\n",
       "      <td>...</td>\n",
       "      <td>...</td>\n",
       "    </tr>\n",
       "    <tr>\n",
       "      <th>768</th>\n",
       "      <td>263.63500</td>\n",
       "      <td>2021</td>\n",
       "      <td>28</td>\n",
       "      <td>2</td>\n",
       "      <td>39</td>\n",
       "      <td>36.199845</td>\n",
       "      <td>214.363986</td>\n",
       "      <td>208.633194</td>\n",
       "      <td>234.90050</td>\n",
       "    </tr>\n",
       "    <tr>\n",
       "      <th>769</th>\n",
       "      <td>286.02800</td>\n",
       "      <td>2021</td>\n",
       "      <td>29</td>\n",
       "      <td>3</td>\n",
       "      <td>39</td>\n",
       "      <td>36.213588</td>\n",
       "      <td>225.923188</td>\n",
       "      <td>208.633194</td>\n",
       "      <td>242.91150</td>\n",
       "    </tr>\n",
       "    <tr>\n",
       "      <th>770</th>\n",
       "      <td>254.22700</td>\n",
       "      <td>2021</td>\n",
       "      <td>30</td>\n",
       "      <td>4</td>\n",
       "      <td>39</td>\n",
       "      <td>36.227271</td>\n",
       "      <td>218.783329</td>\n",
       "      <td>208.633194</td>\n",
       "      <td>251.38300</td>\n",
       "    </tr>\n",
       "    <tr>\n",
       "      <th>771</th>\n",
       "      <td>233.87700</td>\n",
       "      <td>2021</td>\n",
       "      <td>2</td>\n",
       "      <td>6</td>\n",
       "      <td>39</td>\n",
       "      <td>36.254463</td>\n",
       "      <td>111.336368</td>\n",
       "      <td>210.123357</td>\n",
       "      <td>253.07300</td>\n",
       "    </tr>\n",
       "    <tr>\n",
       "      <th>772</th>\n",
       "      <td>314.31060</td>\n",
       "      <td>2021</td>\n",
       "      <td>3</td>\n",
       "      <td>7</td>\n",
       "      <td>39</td>\n",
       "      <td>36.267972</td>\n",
       "      <td>147.891983</td>\n",
       "      <td>210.123357</td>\n",
       "      <td>212.84250</td>\n",
       "    </tr>\n",
       "  </tbody>\n",
       "</table>\n",
       "<p>773 rows × 9 columns</p>\n",
       "</div>"
      ],
      "text/plain": [
       "         total  year  day  day_of_week  week_of_year   day^year   daily_avg  \\\n",
       "0    206.24000  2019   10            4             2  16.617236  218.783329   \n",
       "1    241.41700  2019   11            5             2  17.294467  210.604226   \n",
       "2    218.08950  2019   14            1             3  18.928349  211.253393   \n",
       "3    253.10338  2019   15            2             3  19.375847  214.363986   \n",
       "4    304.49430  2019   16            3             3  19.786819  225.923188   \n",
       "..         ...   ...  ...          ...           ...        ...         ...   \n",
       "768  263.63500  2021   28            2            39  36.199845  214.363986   \n",
       "769  286.02800  2021   29            3            39  36.213588  225.923188   \n",
       "770  254.22700  2021   30            4            39  36.227271  218.783329   \n",
       "771  233.87700  2021    2            6            39  36.254463  111.336368   \n",
       "772  314.31060  2021    3            7            39  36.267972  147.891983   \n",
       "\n",
       "     monthly_avg    shift_7  \n",
       "0     209.164267   45.37500  \n",
       "1     209.164267  221.35570  \n",
       "2     209.164267  254.63450  \n",
       "3     209.164267  208.07718  \n",
       "4     209.164267  226.09680  \n",
       "..           ...        ...  \n",
       "768   208.633194  234.90050  \n",
       "769   208.633194  242.91150  \n",
       "770   208.633194  251.38300  \n",
       "771   210.123357  253.07300  \n",
       "772   210.123357  212.84250  \n",
       "\n",
       "[773 rows x 9 columns]"
      ]
     },
     "execution_count": 119,
     "metadata": {},
     "output_type": "execute_result"
    }
   ],
   "source": [
    "df"
   ]
  },
  {
   "cell_type": "code",
   "execution_count": 120,
   "id": "8eab23c7-3f38-4cd4-89a5-574e3d196f22",
   "metadata": {},
   "outputs": [],
   "source": [
    "X = df.drop('total', axis=1)\n",
    "y = df['total']"
   ]
  },
  {
   "cell_type": "code",
   "execution_count": 121,
   "id": "0b5f2c5c-b594-4b5d-b718-fa05c73e728a",
   "metadata": {},
   "outputs": [],
   "source": [
    "X_train, X_test, y_train, y_test = train_test_split(X, y, test_size=0.2, random_state=123)"
   ]
  },
  {
   "cell_type": "code",
   "execution_count": 122,
   "id": "8042ace6-3fad-474c-953d-c24c7e383123",
   "metadata": {},
   "outputs": [
    {
     "data": {
      "text/html": [
       "<div>\n",
       "<style scoped>\n",
       "    .dataframe tbody tr th:only-of-type {\n",
       "        vertical-align: middle;\n",
       "    }\n",
       "\n",
       "    .dataframe tbody tr th {\n",
       "        vertical-align: top;\n",
       "    }\n",
       "\n",
       "    .dataframe thead th {\n",
       "        text-align: right;\n",
       "    }\n",
       "</style>\n",
       "<table border=\"1\" class=\"dataframe\">\n",
       "  <thead>\n",
       "    <tr style=\"text-align: right;\">\n",
       "      <th></th>\n",
       "      <th>year</th>\n",
       "      <th>day</th>\n",
       "      <th>day_of_week</th>\n",
       "      <th>week_of_year</th>\n",
       "      <th>day^year</th>\n",
       "      <th>daily_avg</th>\n",
       "      <th>monthly_avg</th>\n",
       "      <th>shift_7</th>\n",
       "    </tr>\n",
       "  </thead>\n",
       "  <tbody>\n",
       "    <tr>\n",
       "      <th>386</th>\n",
       "      <td>2020</td>\n",
       "      <td>27</td>\n",
       "      <td>3</td>\n",
       "      <td>22</td>\n",
       "      <td>32.204537</td>\n",
       "      <td>225.923188</td>\n",
       "      <td>204.152380</td>\n",
       "      <td>203.9964</td>\n",
       "    </tr>\n",
       "    <tr>\n",
       "      <th>210</th>\n",
       "      <td>2019</td>\n",
       "      <td>14</td>\n",
       "      <td>1</td>\n",
       "      <td>42</td>\n",
       "      <td>32.944989</td>\n",
       "      <td>211.253393</td>\n",
       "      <td>210.123357</td>\n",
       "      <td>262.4235</td>\n",
       "    </tr>\n",
       "    <tr>\n",
       "      <th>36</th>\n",
       "      <td>2019</td>\n",
       "      <td>27</td>\n",
       "      <td>3</td>\n",
       "      <td>9</td>\n",
       "      <td>26.704372</td>\n",
       "      <td>225.923188</td>\n",
       "      <td>211.288535</td>\n",
       "      <td>297.5039</td>\n",
       "    </tr>\n",
       "    <tr>\n",
       "      <th>379</th>\n",
       "      <td>2020</td>\n",
       "      <td>15</td>\n",
       "      <td>5</td>\n",
       "      <td>20</td>\n",
       "      <td>31.866093</td>\n",
       "      <td>210.604226</td>\n",
       "      <td>204.152380</td>\n",
       "      <td>246.6180</td>\n",
       "    </tr>\n",
       "    <tr>\n",
       "      <th>625</th>\n",
       "      <td>2021</td>\n",
       "      <td>26</td>\n",
       "      <td>5</td>\n",
       "      <td>12</td>\n",
       "      <td>31.371491</td>\n",
       "      <td>210.604226</td>\n",
       "      <td>218.417103</td>\n",
       "      <td>266.1076</td>\n",
       "    </tr>\n",
       "    <tr>\n",
       "      <th>...</th>\n",
       "      <td>...</td>\n",
       "      <td>...</td>\n",
       "      <td>...</td>\n",
       "      <td>...</td>\n",
       "      <td>...</td>\n",
       "      <td>...</td>\n",
       "      <td>...</td>\n",
       "      <td>...</td>\n",
       "    </tr>\n",
       "    <tr>\n",
       "      <th>64</th>\n",
       "      <td>2019</td>\n",
       "      <td>7</td>\n",
       "      <td>7</td>\n",
       "      <td>14</td>\n",
       "      <td>28.932877</td>\n",
       "      <td>147.891983</td>\n",
       "      <td>209.620139</td>\n",
       "      <td>258.1769</td>\n",
       "    </tr>\n",
       "    <tr>\n",
       "      <th>252</th>\n",
       "      <td>2019</td>\n",
       "      <td>3</td>\n",
       "      <td>2</td>\n",
       "      <td>49</td>\n",
       "      <td>33.474646</td>\n",
       "      <td>214.363986</td>\n",
       "      <td>145.575734</td>\n",
       "      <td>255.8080</td>\n",
       "    </tr>\n",
       "    <tr>\n",
       "      <th>672</th>\n",
       "      <td>2021</td>\n",
       "      <td>28</td>\n",
       "      <td>5</td>\n",
       "      <td>21</td>\n",
       "      <td>33.814764</td>\n",
       "      <td>210.604226</td>\n",
       "      <td>204.152380</td>\n",
       "      <td>274.8960</td>\n",
       "    </tr>\n",
       "    <tr>\n",
       "      <th>713</th>\n",
       "      <td>2021</td>\n",
       "      <td>22</td>\n",
       "      <td>4</td>\n",
       "      <td>29</td>\n",
       "      <td>35.093517</td>\n",
       "      <td>218.783329</td>\n",
       "      <td>181.955145</td>\n",
       "      <td>252.0495</td>\n",
       "    </tr>\n",
       "    <tr>\n",
       "      <th>119</th>\n",
       "      <td>2019</td>\n",
       "      <td>17</td>\n",
       "      <td>1</td>\n",
       "      <td>25</td>\n",
       "      <td>31.066632</td>\n",
       "      <td>211.253393</td>\n",
       "      <td>208.770929</td>\n",
       "      <td>279.0620</td>\n",
       "    </tr>\n",
       "  </tbody>\n",
       "</table>\n",
       "<p>155 rows × 8 columns</p>\n",
       "</div>"
      ],
      "text/plain": [
       "     year  day  day_of_week  week_of_year   day^year   daily_avg  monthly_avg  \\\n",
       "386  2020   27            3            22  32.204537  225.923188   204.152380   \n",
       "210  2019   14            1            42  32.944989  211.253393   210.123357   \n",
       "36   2019   27            3             9  26.704372  225.923188   211.288535   \n",
       "379  2020   15            5            20  31.866093  210.604226   204.152380   \n",
       "625  2021   26            5            12  31.371491  210.604226   218.417103   \n",
       "..    ...  ...          ...           ...        ...         ...          ...   \n",
       "64   2019    7            7            14  28.932877  147.891983   209.620139   \n",
       "252  2019    3            2            49  33.474646  214.363986   145.575734   \n",
       "672  2021   28            5            21  33.814764  210.604226   204.152380   \n",
       "713  2021   22            4            29  35.093517  218.783329   181.955145   \n",
       "119  2019   17            1            25  31.066632  211.253393   208.770929   \n",
       "\n",
       "      shift_7  \n",
       "386  203.9964  \n",
       "210  262.4235  \n",
       "36   297.5039  \n",
       "379  246.6180  \n",
       "625  266.1076  \n",
       "..        ...  \n",
       "64   258.1769  \n",
       "252  255.8080  \n",
       "672  274.8960  \n",
       "713  252.0495  \n",
       "119  279.0620  \n",
       "\n",
       "[155 rows x 8 columns]"
      ]
     },
     "execution_count": 122,
     "metadata": {},
     "output_type": "execute_result"
    }
   ],
   "source": [
    "X_test"
   ]
  },
  {
   "cell_type": "code",
   "execution_count": 8,
   "id": "59c57f9f-9ca0-43d0-a31f-ada004eb1e9f",
   "metadata": {},
   "outputs": [],
   "source": [
    "scaler = MinMaxScaler(feature_range=(-1,1))"
   ]
  },
  {
   "cell_type": "code",
   "execution_count": 9,
   "id": "1f51e8ee-6540-4cbb-abda-052d2291fbb3",
   "metadata": {},
   "outputs": [],
   "source": [
    "X_train = scaler.fit_transform(X_train)\n",
    "X_test = scaler.transform(X_test)"
   ]
  },
  {
   "cell_type": "code",
   "execution_count": 123,
   "id": "b35ca75a-cacb-4671-b65f-5eae7d68744c",
   "metadata": {},
   "outputs": [],
   "source": [
    "from sklearn.linear_model import LinearRegression"
   ]
  },
  {
   "cell_type": "code",
   "execution_count": 124,
   "id": "6c012db6-dd49-4826-a47f-e455cbbd6fe3",
   "metadata": {},
   "outputs": [],
   "source": [
    "model = LinearRegression()"
   ]
  },
  {
   "cell_type": "code",
   "execution_count": 125,
   "id": "229b4cdc-099d-44e8-91bf-8619672f84f6",
   "metadata": {},
   "outputs": [
    {
     "data": {
      "text/plain": [
       "LinearRegression()"
      ]
     },
     "execution_count": 125,
     "metadata": {},
     "output_type": "execute_result"
    }
   ],
   "source": [
    "model.fit(X_train, y_train)"
   ]
  },
  {
   "cell_type": "code",
   "execution_count": 126,
   "id": "fd13195b-85de-49f0-96d8-16cd858c35a7",
   "metadata": {},
   "outputs": [],
   "source": [
    "y_pred = model.predict(X_test)"
   ]
  },
  {
   "cell_type": "code",
   "execution_count": 14,
   "id": "aed1e299-552a-45fe-85d7-baa2f014c2ea",
   "metadata": {},
   "outputs": [
    {
     "name": "stdout",
     "output_type": "stream",
     "text": [
      "explained variance : 0.3269\n",
      "mean squared log error : 1.5633\n",
      "r2 : 0.3236\n",
      "MAE : 124.2904\n",
      "MSE : 29075.2666\n",
      "RMSE : 170.5147\n"
     ]
    }
   ],
   "source": [
    "regression_results(y_test, y_pred)"
   ]
  },
  {
   "cell_type": "code",
   "execution_count": 127,
   "id": "dce32f02-d74b-4799-b736-520b6572b69a",
   "metadata": {},
   "outputs": [
    {
     "name": "stdout",
     "output_type": "stream",
     "text": [
      "explained variance : 0.3427\n",
      "mean squared log error : 2.5668\n",
      "r2 : 0.3418\n",
      "MAE : 54.6175\n",
      "MSE : 5517.4267\n",
      "RMSE : 74.2794\n"
     ]
    }
   ],
   "source": [
    "regression_results(y_test, y_pred)"
   ]
  },
  {
   "cell_type": "code",
   "execution_count": null,
   "id": "2d3c3da2-a981-496f-a86a-3155d6854807",
   "metadata": {},
   "outputs": [],
   "source": []
  },
  {
   "cell_type": "code",
   "execution_count": null,
   "id": "8b51d350-e49c-4a7a-a135-a2054f96f92f",
   "metadata": {},
   "outputs": [],
   "source": []
  },
  {
   "cell_type": "code",
   "execution_count": null,
   "id": "2800af88-15a2-4528-9781-d259e0fb0351",
   "metadata": {},
   "outputs": [],
   "source": []
  },
  {
   "cell_type": "code",
   "execution_count": 128,
   "id": "19bfbe09-9161-4eeb-a0eb-c9f0b6f4aadb",
   "metadata": {},
   "outputs": [],
   "source": [
    "df_1 = pd.read_csv('cleaned_data.csv')"
   ]
  },
  {
   "cell_type": "code",
   "execution_count": null,
   "id": "5f8464e3-972a-4ed6-a810-8c12251b287d",
   "metadata": {
    "tags": []
   },
   "outputs": [],
   "source": []
  },
  {
   "cell_type": "code",
   "execution_count": null,
   "id": "41567005-1bd1-4844-8397-642b38f9b73e",
   "metadata": {},
   "outputs": [],
   "source": []
  },
  {
   "cell_type": "code",
   "execution_count": null,
   "id": "5a6e062d-e5b5-4942-9dea-69df85547a59",
   "metadata": {},
   "outputs": [],
   "source": []
  },
  {
   "cell_type": "code",
   "execution_count": null,
   "id": "f55f2494-8861-4f9a-85ce-03094a93e242",
   "metadata": {},
   "outputs": [],
   "source": []
  },
  {
   "cell_type": "code",
   "execution_count": null,
   "id": "ce27cda2-c35a-4ba0-969b-f1c1f304db3e",
   "metadata": {},
   "outputs": [],
   "source": []
  },
  {
   "cell_type": "code",
   "execution_count": null,
   "id": "289da89f-70e1-4580-8535-ac83324f5826",
   "metadata": {},
   "outputs": [],
   "source": []
  },
  {
   "cell_type": "code",
   "execution_count": null,
   "id": "f61251c8-bcc7-4a5d-9d30-34e95f11416e",
   "metadata": {},
   "outputs": [],
   "source": []
  },
  {
   "cell_type": "code",
   "execution_count": null,
   "id": "d218d829-affa-45e5-b044-4888938fd26b",
   "metadata": {},
   "outputs": [],
   "source": []
  },
  {
   "cell_type": "code",
   "execution_count": 159,
   "id": "d16a61a4-0a13-4ee6-bcff-1822810b37d4",
   "metadata": {},
   "outputs": [],
   "source": [
    "df_1 = df_1[['order_load_year','order_load_week','order_size']].groupby(['order_load_year','order_load_week']).sum().reset_index()"
   ]
  },
  {
   "cell_type": "code",
   "execution_count": 157,
   "id": "246c0ea7-11be-4445-a855-05d8d24b7446",
   "metadata": {},
   "outputs": [
    {
     "data": {
      "text/html": [
       "<div>\n",
       "<style scoped>\n",
       "    .dataframe tbody tr th:only-of-type {\n",
       "        vertical-align: middle;\n",
       "    }\n",
       "\n",
       "    .dataframe tbody tr th {\n",
       "        vertical-align: top;\n",
       "    }\n",
       "\n",
       "    .dataframe thead th {\n",
       "        text-align: right;\n",
       "    }\n",
       "</style>\n",
       "<table border=\"1\" class=\"dataframe\">\n",
       "  <thead>\n",
       "    <tr style=\"text-align: right;\">\n",
       "      <th></th>\n",
       "      <th>order_load_year</th>\n",
       "      <th>order_load_week</th>\n",
       "      <th>order_size</th>\n",
       "      <th>shift_7</th>\n",
       "      <th>shift_7_diff</th>\n",
       "    </tr>\n",
       "  </thead>\n",
       "  <tbody>\n",
       "    <tr>\n",
       "      <th>2</th>\n",
       "      <td>2019</td>\n",
       "      <td>3</td>\n",
       "      <td>1296.78888</td>\n",
       "      <td>804.06150</td>\n",
       "      <td>-151.47768</td>\n",
       "    </tr>\n",
       "    <tr>\n",
       "      <th>3</th>\n",
       "      <td>2019</td>\n",
       "      <td>4</td>\n",
       "      <td>1360.04170</td>\n",
       "      <td>1296.78888</td>\n",
       "      <td>492.72738</td>\n",
       "    </tr>\n",
       "    <tr>\n",
       "      <th>4</th>\n",
       "      <td>2019</td>\n",
       "      <td>5</td>\n",
       "      <td>1189.00916</td>\n",
       "      <td>1360.04170</td>\n",
       "      <td>63.25282</td>\n",
       "    </tr>\n",
       "    <tr>\n",
       "      <th>5</th>\n",
       "      <td>2019</td>\n",
       "      <td>6</td>\n",
       "      <td>1450.58950</td>\n",
       "      <td>1189.00916</td>\n",
       "      <td>-171.03254</td>\n",
       "    </tr>\n",
       "    <tr>\n",
       "      <th>6</th>\n",
       "      <td>2019</td>\n",
       "      <td>7</td>\n",
       "      <td>967.74460</td>\n",
       "      <td>1450.58950</td>\n",
       "      <td>261.58034</td>\n",
       "    </tr>\n",
       "    <tr>\n",
       "      <th>...</th>\n",
       "      <td>...</td>\n",
       "      <td>...</td>\n",
       "      <td>...</td>\n",
       "      <td>...</td>\n",
       "      <td>...</td>\n",
       "    </tr>\n",
       "    <tr>\n",
       "      <th>139</th>\n",
       "      <td>2021</td>\n",
       "      <td>35</td>\n",
       "      <td>1123.94400</td>\n",
       "      <td>986.51650</td>\n",
       "      <td>97.08100</td>\n",
       "    </tr>\n",
       "    <tr>\n",
       "      <th>140</th>\n",
       "      <td>2021</td>\n",
       "      <td>36</td>\n",
       "      <td>907.99300</td>\n",
       "      <td>1123.94400</td>\n",
       "      <td>137.42750</td>\n",
       "    </tr>\n",
       "    <tr>\n",
       "      <th>141</th>\n",
       "      <td>2021</td>\n",
       "      <td>37</td>\n",
       "      <td>1135.16900</td>\n",
       "      <td>907.99300</td>\n",
       "      <td>-215.95100</td>\n",
       "    </tr>\n",
       "    <tr>\n",
       "      <th>142</th>\n",
       "      <td>2021</td>\n",
       "      <td>38</td>\n",
       "      <td>1199.21050</td>\n",
       "      <td>1135.16900</td>\n",
       "      <td>227.17600</td>\n",
       "    </tr>\n",
       "    <tr>\n",
       "      <th>143</th>\n",
       "      <td>2021</td>\n",
       "      <td>39</td>\n",
       "      <td>1598.54660</td>\n",
       "      <td>1199.21050</td>\n",
       "      <td>64.04150</td>\n",
       "    </tr>\n",
       "  </tbody>\n",
       "</table>\n",
       "<p>142 rows × 5 columns</p>\n",
       "</div>"
      ],
      "text/plain": [
       "     order_load_year  order_load_week  order_size     shift_7  shift_7_diff\n",
       "2               2019                3  1296.78888   804.06150    -151.47768\n",
       "3               2019                4  1360.04170  1296.78888     492.72738\n",
       "4               2019                5  1189.00916  1360.04170      63.25282\n",
       "5               2019                6  1450.58950  1189.00916    -171.03254\n",
       "6               2019                7   967.74460  1450.58950     261.58034\n",
       "..               ...              ...         ...         ...           ...\n",
       "139             2021               35  1123.94400   986.51650      97.08100\n",
       "140             2021               36   907.99300  1123.94400     137.42750\n",
       "141             2021               37  1135.16900   907.99300    -215.95100\n",
       "142             2021               38  1199.21050  1135.16900     227.17600\n",
       "143             2021               39  1598.54660  1199.21050      64.04150\n",
       "\n",
       "[142 rows x 5 columns]"
      ]
     },
     "execution_count": 157,
     "metadata": {},
     "output_type": "execute_result"
    }
   ],
   "source": [
    "df_1"
   ]
  },
  {
   "cell_type": "code",
   "execution_count": 133,
   "id": "4f6d20be-2817-4e24-ac63-84b2ab28cb56",
   "metadata": {},
   "outputs": [],
   "source": [
    "df_1['shift_7'] = df_1['order_size'].shift(1)"
   ]
  },
  {
   "cell_type": "code",
   "execution_count": 134,
   "id": "8690b68c-60ce-4870-9a0b-e76f457e615c",
   "metadata": {},
   "outputs": [],
   "source": [
    "df_1['shift_7_diff'] = df_1['shift_7'].diff()"
   ]
  },
  {
   "cell_type": "code",
   "execution_count": 135,
   "id": "2b8041b9-b195-4163-8580-4b5cf2ee6f97",
   "metadata": {},
   "outputs": [],
   "source": [
    "df_1 = df_1.dropna()"
   ]
  },
  {
   "cell_type": "code",
   "execution_count": 136,
   "id": "1e0bd09e-51da-49d6-9c78-0d5b5aaa8478",
   "metadata": {},
   "outputs": [],
   "source": [
    "corr = df_1.corr()"
   ]
  },
  {
   "cell_type": "code",
   "execution_count": 137,
   "id": "a7fa3fb6-dd7e-4d2f-ad5b-bc87348c83d5",
   "metadata": {},
   "outputs": [
    {
     "data": {
      "text/plain": [
       "<AxesSubplot:>"
      ]
     },
     "execution_count": 137,
     "metadata": {},
     "output_type": "execute_result"
    },
    {
     "data": {
      "image/png": "[encoded data removed]",
      "text/plain": [
       "<Figure size 864x720 with 2 Axes>"
      ]
     },
     "metadata": {
      "needs_background": "light"
     },
     "output_type": "display_data"
    }
   ],
   "source": [
    "# create heatmap\n",
    "f, ax = plt.subplots(figsize=(12, 10))\n",
    "\n",
    "#masking top half\n",
    "mask = np.triu(np.ones_like(corr, dtype=bool))\n",
    "\n",
    "# Configure a custom diverging colormap\n",
    "cmap = sns.diverging_palette(230, 20, as_cmap=True)\n",
    "\n",
    "# create heatmap\n",
    "sns.heatmap(corr, annot=True, mask = mask, cmap=cmap)"
   ]
  },
  {
   "cell_type": "code",
   "execution_count": 138,
   "id": "817c1a68-745e-407b-b06f-c0904fbff2cb",
   "metadata": {},
   "outputs": [],
   "source": [
    "# import XGB model\n",
    "import xgboost as xgb"
   ]
  },
  {
   "cell_type": "code",
   "execution_count": 139,
   "id": "a967a96b-250c-4a5e-a3ab-9a82b2c46323",
   "metadata": {},
   "outputs": [],
   "source": [
    "model = xgb.XGBRegressor(n_estimators=500, \n",
    "                        learning_rate = 0.01)"
   ]
  },
  {
   "cell_type": "code",
   "execution_count": 140,
   "id": "86d65f0e-e57d-49ff-af9c-3c1966ae8927",
   "metadata": {},
   "outputs": [],
   "source": [
    "X_1 = df_1.drop('order_size',axis=1)\n",
    "y_1 = df_1['order_size']"
   ]
  },
  {
   "cell_type": "code",
   "execution_count": 141,
   "id": "ee93aa3d-29e3-471d-90cb-b352d07fd734",
   "metadata": {},
   "outputs": [],
   "source": [
    "X_train1, X_test1, y_train1, y_test1 = train_test_split(X_1, y_1, test_size=0.3, random_state=123)"
   ]
  },
  {
   "cell_type": "code",
   "execution_count": 142,
   "id": "d4ba10c7-eb1e-4596-9f2e-6557b4a18c20",
   "metadata": {},
   "outputs": [
    {
     "data": {
      "text/plain": [
       "(43, 4)"
      ]
     },
     "execution_count": 142,
     "metadata": {},
     "output_type": "execute_result"
    }
   ],
   "source": [
    "X_test1.shape"
   ]
  },
  {
   "cell_type": "code",
   "execution_count": 179,
   "id": "f40da124-089d-4ba5-b502-8367f21f9fe5",
   "metadata": {},
   "outputs": [
    {
     "data": {
      "text/plain": [
       "XGBRegressor(base_score=0.5, booster='gbtree', colsample_bylevel=1,\n",
       "             colsample_bynode=1, colsample_bytree=1, gamma=0, gpu_id=-1,\n",
       "             importance_type='gain', interaction_constraints='',\n",
       "             learning_rate=0.01, max_delta_step=0, max_depth=6,\n",
       "             min_child_weight=1, missing=nan, monotone_constraints='()',\n",
       "             n_estimators=500, n_jobs=8, num_parallel_tree=1, random_state=0,\n",
       "             reg_alpha=0, reg_lambda=1, scale_pos_weight=1, subsample=1,\n",
       "             tree_method='exact', validate_parameters=1, verbosity=None)"
      ]
     },
     "execution_count": 179,
     "metadata": {},
     "output_type": "execute_result"
    }
   ],
   "source": [
    "model.fit(X_train1, y_train1)"
   ]
  },
  {
   "cell_type": "code",
   "execution_count": 180,
   "id": "1a522272-4c90-4ff0-97e5-0cd82ff21128",
   "metadata": {},
   "outputs": [],
   "source": [
    "y_preds = model.predict(X_test1)"
   ]
  },
  {
   "cell_type": "code",
   "execution_count": 181,
   "id": "356013a7-0595-450a-8755-288ad0d77818",
   "metadata": {},
   "outputs": [
    {
     "data": {
      "text/plain": [
       "array([ 905.1037 , 1100.8892 , 1200.415  , 1201.2704 , 1000.1563 ,\n",
       "       1103.4008 , 1040.5178 , 1091.0792 , 1076.6238 , 1055.7626 ,\n",
       "        534.6896 , 1051.9884 , 1225.0798 , 1094.3416 ,  934.9824 ,\n",
       "       1142.1528 , 1147.8529 ,  920.434  ,  989.27246,  879.452  ,\n",
       "       1140.9967 , 1035.8562 , 1217.4584 , 1099.4316 , 1189.9806 ,\n",
       "       1098.1508 , 1283.2991 , 1364.0784 ,  997.19403, 1249.2549 ,\n",
       "       1194.6736 ,  942.2361 , 1160.0725 , 1026.0122 ,  980.9656 ,\n",
       "       1119.242  , 1361.085  ,  968.75226, 1057.8376 ,  887.2443 ,\n",
       "        941.26276, 1098.5824 ,  983.78156], dtype=float32)"
      ]
     },
     "execution_count": 181,
     "metadata": {},
     "output_type": "execute_result"
    }
   ],
   "source": [
    "y_preds"
   ]
  },
  {
   "cell_type": "code",
   "execution_count": 182,
   "id": "6f811c2f-d2b9-405f-a286-d0e387f8a577",
   "metadata": {},
   "outputs": [
    {
     "name": "stdout",
     "output_type": "stream",
     "text": [
      "explained variance : -0.1976\n",
      "mean squared log error : 0.0934\n",
      "r2 : -0.2207\n",
      "MAE : 211.4032\n",
      "MSE : 74102.887\n",
      "RMSE : 272.2185\n"
     ]
    }
   ],
   "source": [
    "regression_results(y_test1, y_preds)"
   ]
  },
  {
   "cell_type": "code",
   "execution_count": null,
   "id": "cc7f8fc7-6daa-4da1-8774-3725106ae217",
   "metadata": {},
   "outputs": [],
   "source": []
  },
  {
   "cell_type": "code",
   "execution_count": 153,
   "id": "a62184e2-4232-4216-a54d-dd2e0c9577d6",
   "metadata": {},
   "outputs": [],
   "source": [
    "df_2 = pd.read_csv('cleaned_data.csv')"
   ]
  },
  {
   "cell_type": "code",
   "execution_count": 162,
   "id": "7ca57ce6-d9cd-4e53-af5f-381f603406f5",
   "metadata": {},
   "outputs": [],
   "source": [
    "df_2 = df_2[['order_load_year','order_load_week','order_size','distance']].groupby(['order_load_year','order_load_week']).sum().reset_index()"
   ]
  },
  {
   "cell_type": "code",
   "execution_count": 163,
   "id": "0857bcaf-b9ea-4ae0-8b51-f281a83d9f03",
   "metadata": {},
   "outputs": [
    {
     "data": {
      "text/html": [
       "<div>\n",
       "<style scoped>\n",
       "    .dataframe tbody tr th:only-of-type {\n",
       "        vertical-align: middle;\n",
       "    }\n",
       "\n",
       "    .dataframe tbody tr th {\n",
       "        vertical-align: top;\n",
       "    }\n",
       "\n",
       "    .dataframe thead th {\n",
       "        text-align: right;\n",
       "    }\n",
       "</style>\n",
       "<table border=\"1\" class=\"dataframe\">\n",
       "  <thead>\n",
       "    <tr style=\"text-align: right;\">\n",
       "      <th></th>\n",
       "      <th>order_load_year</th>\n",
       "      <th>order_load_week</th>\n",
       "      <th>order_size</th>\n",
       "      <th>distance</th>\n",
       "    </tr>\n",
       "  </thead>\n",
       "  <tbody>\n",
       "    <tr>\n",
       "      <th>0</th>\n",
       "      <td>2019</td>\n",
       "      <td>1</td>\n",
       "      <td>955.53918</td>\n",
       "      <td>139404</td>\n",
       "    </tr>\n",
       "    <tr>\n",
       "      <th>1</th>\n",
       "      <td>2019</td>\n",
       "      <td>2</td>\n",
       "      <td>804.06150</td>\n",
       "      <td>128820</td>\n",
       "    </tr>\n",
       "    <tr>\n",
       "      <th>2</th>\n",
       "      <td>2019</td>\n",
       "      <td>3</td>\n",
       "      <td>1296.78888</td>\n",
       "      <td>184058</td>\n",
       "    </tr>\n",
       "    <tr>\n",
       "      <th>3</th>\n",
       "      <td>2019</td>\n",
       "      <td>4</td>\n",
       "      <td>1360.04170</td>\n",
       "      <td>192137</td>\n",
       "    </tr>\n",
       "    <tr>\n",
       "      <th>4</th>\n",
       "      <td>2019</td>\n",
       "      <td>5</td>\n",
       "      <td>1189.00916</td>\n",
       "      <td>165412</td>\n",
       "    </tr>\n",
       "    <tr>\n",
       "      <th>...</th>\n",
       "      <td>...</td>\n",
       "      <td>...</td>\n",
       "      <td>...</td>\n",
       "      <td>...</td>\n",
       "    </tr>\n",
       "    <tr>\n",
       "      <th>139</th>\n",
       "      <td>2021</td>\n",
       "      <td>35</td>\n",
       "      <td>1123.94400</td>\n",
       "      <td>167195</td>\n",
       "    </tr>\n",
       "    <tr>\n",
       "      <th>140</th>\n",
       "      <td>2021</td>\n",
       "      <td>36</td>\n",
       "      <td>907.99300</td>\n",
       "      <td>131884</td>\n",
       "    </tr>\n",
       "    <tr>\n",
       "      <th>141</th>\n",
       "      <td>2021</td>\n",
       "      <td>37</td>\n",
       "      <td>1135.16900</td>\n",
       "      <td>165226</td>\n",
       "    </tr>\n",
       "    <tr>\n",
       "      <th>142</th>\n",
       "      <td>2021</td>\n",
       "      <td>38</td>\n",
       "      <td>1199.21050</td>\n",
       "      <td>175071</td>\n",
       "    </tr>\n",
       "    <tr>\n",
       "      <th>143</th>\n",
       "      <td>2021</td>\n",
       "      <td>39</td>\n",
       "      <td>1598.54660</td>\n",
       "      <td>224996</td>\n",
       "    </tr>\n",
       "  </tbody>\n",
       "</table>\n",
       "<p>144 rows × 4 columns</p>\n",
       "</div>"
      ],
      "text/plain": [
       "     order_load_year  order_load_week  order_size  distance\n",
       "0               2019                1   955.53918    139404\n",
       "1               2019                2   804.06150    128820\n",
       "2               2019                3  1296.78888    184058\n",
       "3               2019                4  1360.04170    192137\n",
       "4               2019                5  1189.00916    165412\n",
       "..               ...              ...         ...       ...\n",
       "139             2021               35  1123.94400    167195\n",
       "140             2021               36   907.99300    131884\n",
       "141             2021               37  1135.16900    165226\n",
       "142             2021               38  1199.21050    175071\n",
       "143             2021               39  1598.54660    224996\n",
       "\n",
       "[144 rows x 4 columns]"
      ]
     },
     "execution_count": 163,
     "metadata": {},
     "output_type": "execute_result"
    }
   ],
   "source": [
    "df_2"
   ]
  },
  {
   "cell_type": "code",
   "execution_count": 164,
   "id": "45451beb-31fd-42d3-b4d7-756b7d76de84",
   "metadata": {},
   "outputs": [],
   "source": [
    "df_2['shift_7'] = df_2['order_size'].shift(1)"
   ]
  },
  {
   "cell_type": "code",
   "execution_count": 166,
   "id": "31d1d1ff-a9bd-4264-83f5-2375a7fef7a5",
   "metadata": {},
   "outputs": [],
   "source": [
    "df_2['shift_7_diff'] = df_2['shift_7'].diff()"
   ]
  },
  {
   "cell_type": "code",
   "execution_count": 168,
   "id": "6433ec44-fae3-4cfe-b706-08a0b3f46bd3",
   "metadata": {},
   "outputs": [],
   "source": [
    "df_2 = df_2.dropna()"
   ]
  },
  {
   "cell_type": "code",
   "execution_count": 189,
   "id": "8ed82df6-91cd-4804-aca2-859763e5f96e",
   "metadata": {},
   "outputs": [],
   "source": [
    "df_3 = df_2.drop(['shift_7', 'shift_7_diff'],axis=1)"
   ]
  },
  {
   "cell_type": "code",
   "execution_count": 169,
   "id": "504d5df3-9688-4d3e-8b8e-94b69f5811e3",
   "metadata": {},
   "outputs": [],
   "source": [
    "X_2 = df_2.drop('order_size',axis=1)\n",
    "y_2 = df_2['order_size']"
   ]
  },
  {
   "cell_type": "code",
   "execution_count": 170,
   "id": "3c976383-cd3e-45e0-bd62-44a48fd9150b",
   "metadata": {},
   "outputs": [],
   "source": [
    "X_train2, X_test2, y_train2, y_test2 = train_test_split(X_2, y_2, test_size=0.2, random_state=123)"
   ]
  },
  {
   "cell_type": "code",
   "execution_count": 183,
   "id": "f3132211-bba8-4f98-8c7e-0adafc6183c9",
   "metadata": {},
   "outputs": [
    {
     "data": {
      "text/plain": [
       "XGBRegressor(base_score=0.5, booster='gbtree', colsample_bylevel=1,\n",
       "             colsample_bynode=1, colsample_bytree=1, gamma=0, gpu_id=-1,\n",
       "             importance_type='gain', interaction_constraints='',\n",
       "             learning_rate=0.01, max_delta_step=0, max_depth=6,\n",
       "             min_child_weight=1, missing=nan, monotone_constraints='()',\n",
       "             n_estimators=500, n_jobs=8, num_parallel_tree=1, random_state=0,\n",
       "             reg_alpha=0, reg_lambda=1, scale_pos_weight=1, subsample=1,\n",
       "             tree_method='exact', validate_parameters=1, verbosity=None)"
      ]
     },
     "execution_count": 183,
     "metadata": {},
     "output_type": "execute_result"
    }
   ],
   "source": [
    "model.fit(X_train2, y_train2)"
   ]
  },
  {
   "cell_type": "code",
   "execution_count": 184,
   "id": "88d23e0f-f7a9-46df-a913-62d8998c24d8",
   "metadata": {},
   "outputs": [],
   "source": [
    "y_preds2 = model.predict(X_test2)"
   ]
  },
  {
   "cell_type": "code",
   "execution_count": 185,
   "id": "d13cc223-65cf-42a3-8b2e-bddf903fcb18",
   "metadata": {},
   "outputs": [
    {
     "name": "stdout",
     "output_type": "stream",
     "text": [
      "explained variance : 0.916\n",
      "mean squared log error : 0.0046\n",
      "r2 : 0.8967\n",
      "MAE : 52.4229\n",
      "MSE : 6041.8168\n",
      "RMSE : 77.7291\n"
     ]
    }
   ],
   "source": [
    "regression_results(y_test2, y_preds2)"
   ]
  },
  {
   "cell_type": "code",
   "execution_count": 187,
   "id": "217ec8f2-9670-41d5-9742-f86ba7887921",
   "metadata": {},
   "outputs": [
    {
     "data": {
      "text/html": [
       "<div>\n",
       "<style scoped>\n",
       "    .dataframe tbody tr th:only-of-type {\n",
       "        vertical-align: middle;\n",
       "    }\n",
       "\n",
       "    .dataframe tbody tr th {\n",
       "        vertical-align: top;\n",
       "    }\n",
       "\n",
       "    .dataframe thead th {\n",
       "        text-align: right;\n",
       "    }\n",
       "</style>\n",
       "<table border=\"1\" class=\"dataframe\">\n",
       "  <thead>\n",
       "    <tr style=\"text-align: right;\">\n",
       "      <th></th>\n",
       "      <th>order_load_year</th>\n",
       "      <th>order_load_week</th>\n",
       "      <th>distance</th>\n",
       "      <th>shift_7</th>\n",
       "      <th>shift_7_diff</th>\n",
       "    </tr>\n",
       "  </thead>\n",
       "  <tbody>\n",
       "    <tr>\n",
       "      <th>107</th>\n",
       "      <td>2021</td>\n",
       "      <td>3</td>\n",
       "      <td>161744</td>\n",
       "      <td>705.39900</td>\n",
       "      <td>-550.79950</td>\n",
       "    </tr>\n",
       "    <tr>\n",
       "      <th>129</th>\n",
       "      <td>2021</td>\n",
       "      <td>25</td>\n",
       "      <td>176248</td>\n",
       "      <td>1196.70800</td>\n",
       "      <td>354.07300</td>\n",
       "    </tr>\n",
       "    <tr>\n",
       "      <th>133</th>\n",
       "      <td>2021</td>\n",
       "      <td>29</td>\n",
       "      <td>136726</td>\n",
       "      <td>911.78000</td>\n",
       "      <td>-228.88474</td>\n",
       "    </tr>\n",
       "    <tr>\n",
       "      <th>47</th>\n",
       "      <td>2019</td>\n",
       "      <td>48</td>\n",
       "      <td>178851</td>\n",
       "      <td>1110.11080</td>\n",
       "      <td>-49.37800</td>\n",
       "    </tr>\n",
       "    <tr>\n",
       "      <th>33</th>\n",
       "      <td>2019</td>\n",
       "      <td>34</td>\n",
       "      <td>124486</td>\n",
       "      <td>657.28426</td>\n",
       "      <td>-440.01224</td>\n",
       "    </tr>\n",
       "    <tr>\n",
       "      <th>61</th>\n",
       "      <td>2020</td>\n",
       "      <td>10</td>\n",
       "      <td>184316</td>\n",
       "      <td>1309.84450</td>\n",
       "      <td>205.94450</td>\n",
       "    </tr>\n",
       "    <tr>\n",
       "      <th>121</th>\n",
       "      <td>2021</td>\n",
       "      <td>17</td>\n",
       "      <td>212124</td>\n",
       "      <td>1286.72800</td>\n",
       "      <td>274.41650</td>\n",
       "    </tr>\n",
       "    <tr>\n",
       "      <th>37</th>\n",
       "      <td>2019</td>\n",
       "      <td>38</td>\n",
       "      <td>181031</td>\n",
       "      <td>952.90480</td>\n",
       "      <td>-8.57180</td>\n",
       "    </tr>\n",
       "    <tr>\n",
       "      <th>6</th>\n",
       "      <td>2019</td>\n",
       "      <td>7</td>\n",
       "      <td>138810</td>\n",
       "      <td>1450.58950</td>\n",
       "      <td>261.58034</td>\n",
       "    </tr>\n",
       "    <tr>\n",
       "      <th>74</th>\n",
       "      <td>2020</td>\n",
       "      <td>23</td>\n",
       "      <td>195927</td>\n",
       "      <td>1281.42050</td>\n",
       "      <td>438.68250</td>\n",
       "    </tr>\n",
       "    <tr>\n",
       "      <th>105</th>\n",
       "      <td>2021</td>\n",
       "      <td>1</td>\n",
       "      <td>179717</td>\n",
       "      <td>633.27950</td>\n",
       "      <td>104.03650</td>\n",
       "    </tr>\n",
       "    <tr>\n",
       "      <th>81</th>\n",
       "      <td>2020</td>\n",
       "      <td>30</td>\n",
       "      <td>125930</td>\n",
       "      <td>1344.94750</td>\n",
       "      <td>270.53970</td>\n",
       "    </tr>\n",
       "    <tr>\n",
       "      <th>2</th>\n",
       "      <td>2019</td>\n",
       "      <td>3</td>\n",
       "      <td>184058</td>\n",
       "      <td>804.06150</td>\n",
       "      <td>-151.47768</td>\n",
       "    </tr>\n",
       "    <tr>\n",
       "      <th>135</th>\n",
       "      <td>2021</td>\n",
       "      <td>31</td>\n",
       "      <td>161062</td>\n",
       "      <td>1181.77550</td>\n",
       "      <td>227.93450</td>\n",
       "    </tr>\n",
       "    <tr>\n",
       "      <th>122</th>\n",
       "      <td>2021</td>\n",
       "      <td>18</td>\n",
       "      <td>142133</td>\n",
       "      <td>1512.61970</td>\n",
       "      <td>225.89170</td>\n",
       "    </tr>\n",
       "    <tr>\n",
       "      <th>110</th>\n",
       "      <td>2021</td>\n",
       "      <td>6</td>\n",
       "      <td>58634</td>\n",
       "      <td>1206.61000</td>\n",
       "      <td>123.21650</td>\n",
       "    </tr>\n",
       "    <tr>\n",
       "      <th>35</th>\n",
       "      <td>2019</td>\n",
       "      <td>36</td>\n",
       "      <td>147901</td>\n",
       "      <td>1333.54734</td>\n",
       "      <td>450.04734</td>\n",
       "    </tr>\n",
       "    <tr>\n",
       "      <th>26</th>\n",
       "      <td>2019</td>\n",
       "      <td>27</td>\n",
       "      <td>164890</td>\n",
       "      <td>1143.96530</td>\n",
       "      <td>-90.32220</td>\n",
       "    </tr>\n",
       "    <tr>\n",
       "      <th>132</th>\n",
       "      <td>2021</td>\n",
       "      <td>28</td>\n",
       "      <td>134953</td>\n",
       "      <td>1140.66474</td>\n",
       "      <td>-30.67626</td>\n",
       "    </tr>\n",
       "    <tr>\n",
       "      <th>40</th>\n",
       "      <td>2019</td>\n",
       "      <td>41</td>\n",
       "      <td>145015</td>\n",
       "      <td>968.91908</td>\n",
       "      <td>-287.87952</td>\n",
       "    </tr>\n",
       "    <tr>\n",
       "      <th>10</th>\n",
       "      <td>2019</td>\n",
       "      <td>11</td>\n",
       "      <td>145314</td>\n",
       "      <td>1425.19710</td>\n",
       "      <td>228.36922</td>\n",
       "    </tr>\n",
       "    <tr>\n",
       "      <th>7</th>\n",
       "      <td>2019</td>\n",
       "      <td>8</td>\n",
       "      <td>191955</td>\n",
       "      <td>967.74460</td>\n",
       "      <td>-482.84490</td>\n",
       "    </tr>\n",
       "    <tr>\n",
       "      <th>18</th>\n",
       "      <td>2019</td>\n",
       "      <td>19</td>\n",
       "      <td>188268</td>\n",
       "      <td>1324.95420</td>\n",
       "      <td>330.00090</td>\n",
       "    </tr>\n",
       "    <tr>\n",
       "      <th>15</th>\n",
       "      <td>2019</td>\n",
       "      <td>16</td>\n",
       "      <td>188870</td>\n",
       "      <td>915.74400</td>\n",
       "      <td>-571.76100</td>\n",
       "    </tr>\n",
       "    <tr>\n",
       "      <th>143</th>\n",
       "      <td>2021</td>\n",
       "      <td>39</td>\n",
       "      <td>224996</td>\n",
       "      <td>1199.21050</td>\n",
       "      <td>64.04150</td>\n",
       "    </tr>\n",
       "    <tr>\n",
       "      <th>64</th>\n",
       "      <td>2020</td>\n",
       "      <td>13</td>\n",
       "      <td>153212</td>\n",
       "      <td>1129.03150</td>\n",
       "      <td>150.87100</td>\n",
       "    </tr>\n",
       "    <tr>\n",
       "      <th>30</th>\n",
       "      <td>2019</td>\n",
       "      <td>31</td>\n",
       "      <td>224023</td>\n",
       "      <td>895.66250</td>\n",
       "      <td>-206.22210</td>\n",
       "    </tr>\n",
       "    <tr>\n",
       "      <th>22</th>\n",
       "      <td>2019</td>\n",
       "      <td>23</td>\n",
       "      <td>177291</td>\n",
       "      <td>1218.03718</td>\n",
       "      <td>-72.82182</td>\n",
       "    </tr>\n",
       "    <tr>\n",
       "      <th>44</th>\n",
       "      <td>2019</td>\n",
       "      <td>45</td>\n",
       "      <td>199959</td>\n",
       "      <td>1692.76080</td>\n",
       "      <td>517.24470</td>\n",
       "    </tr>\n",
       "  </tbody>\n",
       "</table>\n",
       "</div>"
      ],
      "text/plain": [
       "     order_load_year  order_load_week  distance     shift_7  shift_7_diff\n",
       "107             2021                3    161744   705.39900    -550.79950\n",
       "129             2021               25    176248  1196.70800     354.07300\n",
       "133             2021               29    136726   911.78000    -228.88474\n",
       "47              2019               48    178851  1110.11080     -49.37800\n",
       "33              2019               34    124486   657.28426    -440.01224\n",
       "61              2020               10    184316  1309.84450     205.94450\n",
       "121             2021               17    212124  1286.72800     274.41650\n",
       "37              2019               38    181031   952.90480      -8.57180\n",
       "6               2019                7    138810  1450.58950     261.58034\n",
       "74              2020               23    195927  1281.42050     438.68250\n",
       "105             2021                1    179717   633.27950     104.03650\n",
       "81              2020               30    125930  1344.94750     270.53970\n",
       "2               2019                3    184058   804.06150    -151.47768\n",
       "135             2021               31    161062  1181.77550     227.93450\n",
       "122             2021               18    142133  1512.61970     225.89170\n",
       "110             2021                6     58634  1206.61000     123.21650\n",
       "35              2019               36    147901  1333.54734     450.04734\n",
       "26              2019               27    164890  1143.96530     -90.32220\n",
       "132             2021               28    134953  1140.66474     -30.67626\n",
       "40              2019               41    145015   968.91908    -287.87952\n",
       "10              2019               11    145314  1425.19710     228.36922\n",
       "7               2019                8    191955   967.74460    -482.84490\n",
       "18              2019               19    188268  1324.95420     330.00090\n",
       "15              2019               16    188870   915.74400    -571.76100\n",
       "143             2021               39    224996  1199.21050      64.04150\n",
       "64              2020               13    153212  1129.03150     150.87100\n",
       "30              2019               31    224023   895.66250    -206.22210\n",
       "22              2019               23    177291  1218.03718     -72.82182\n",
       "44              2019               45    199959  1692.76080     517.24470"
      ]
     },
     "execution_count": 187,
     "metadata": {},
     "output_type": "execute_result"
    }
   ],
   "source": [
    "X_test2"
   ]
  },
  {
   "cell_type": "code",
   "execution_count": 190,
   "id": "9ae6dc46-9170-41b4-82b2-fd612d7324ce",
   "metadata": {},
   "outputs": [
    {
     "data": {
      "text/html": [
       "<div>\n",
       "<style scoped>\n",
       "    .dataframe tbody tr th:only-of-type {\n",
       "        vertical-align: middle;\n",
       "    }\n",
       "\n",
       "    .dataframe tbody tr th {\n",
       "        vertical-align: top;\n",
       "    }\n",
       "\n",
       "    .dataframe thead th {\n",
       "        text-align: right;\n",
       "    }\n",
       "</style>\n",
       "<table border=\"1\" class=\"dataframe\">\n",
       "  <thead>\n",
       "    <tr style=\"text-align: right;\">\n",
       "      <th></th>\n",
       "      <th>order_load_year</th>\n",
       "      <th>order_load_week</th>\n",
       "      <th>order_size</th>\n",
       "      <th>distance</th>\n",
       "    </tr>\n",
       "  </thead>\n",
       "  <tbody>\n",
       "    <tr>\n",
       "      <th>2</th>\n",
       "      <td>2019</td>\n",
       "      <td>3</td>\n",
       "      <td>1296.78888</td>\n",
       "      <td>184058</td>\n",
       "    </tr>\n",
       "    <tr>\n",
       "      <th>3</th>\n",
       "      <td>2019</td>\n",
       "      <td>4</td>\n",
       "      <td>1360.04170</td>\n",
       "      <td>192137</td>\n",
       "    </tr>\n",
       "    <tr>\n",
       "      <th>4</th>\n",
       "      <td>2019</td>\n",
       "      <td>5</td>\n",
       "      <td>1189.00916</td>\n",
       "      <td>165412</td>\n",
       "    </tr>\n",
       "    <tr>\n",
       "      <th>5</th>\n",
       "      <td>2019</td>\n",
       "      <td>6</td>\n",
       "      <td>1450.58950</td>\n",
       "      <td>220943</td>\n",
       "    </tr>\n",
       "    <tr>\n",
       "      <th>6</th>\n",
       "      <td>2019</td>\n",
       "      <td>7</td>\n",
       "      <td>967.74460</td>\n",
       "      <td>138810</td>\n",
       "    </tr>\n",
       "    <tr>\n",
       "      <th>...</th>\n",
       "      <td>...</td>\n",
       "      <td>...</td>\n",
       "      <td>...</td>\n",
       "      <td>...</td>\n",
       "    </tr>\n",
       "    <tr>\n",
       "      <th>139</th>\n",
       "      <td>2021</td>\n",
       "      <td>35</td>\n",
       "      <td>1123.94400</td>\n",
       "      <td>167195</td>\n",
       "    </tr>\n",
       "    <tr>\n",
       "      <th>140</th>\n",
       "      <td>2021</td>\n",
       "      <td>36</td>\n",
       "      <td>907.99300</td>\n",
       "      <td>131884</td>\n",
       "    </tr>\n",
       "    <tr>\n",
       "      <th>141</th>\n",
       "      <td>2021</td>\n",
       "      <td>37</td>\n",
       "      <td>1135.16900</td>\n",
       "      <td>165226</td>\n",
       "    </tr>\n",
       "    <tr>\n",
       "      <th>142</th>\n",
       "      <td>2021</td>\n",
       "      <td>38</td>\n",
       "      <td>1199.21050</td>\n",
       "      <td>175071</td>\n",
       "    </tr>\n",
       "    <tr>\n",
       "      <th>143</th>\n",
       "      <td>2021</td>\n",
       "      <td>39</td>\n",
       "      <td>1598.54660</td>\n",
       "      <td>224996</td>\n",
       "    </tr>\n",
       "  </tbody>\n",
       "</table>\n",
       "<p>142 rows × 4 columns</p>\n",
       "</div>"
      ],
      "text/plain": [
       "     order_load_year  order_load_week  order_size  distance\n",
       "2               2019                3  1296.78888    184058\n",
       "3               2019                4  1360.04170    192137\n",
       "4               2019                5  1189.00916    165412\n",
       "5               2019                6  1450.58950    220943\n",
       "6               2019                7   967.74460    138810\n",
       "..               ...              ...         ...       ...\n",
       "139             2021               35  1123.94400    167195\n",
       "140             2021               36   907.99300    131884\n",
       "141             2021               37  1135.16900    165226\n",
       "142             2021               38  1199.21050    175071\n",
       "143             2021               39  1598.54660    224996\n",
       "\n",
       "[142 rows x 4 columns]"
      ]
     },
     "execution_count": 190,
     "metadata": {},
     "output_type": "execute_result"
    }
   ],
   "source": [
    "df_3"
   ]
  },
  {
   "cell_type": "code",
   "execution_count": 191,
   "id": "5c40952d-d175-4088-8e02-1459cb030442",
   "metadata": {},
   "outputs": [],
   "source": [
    "X_3 = df_3.drop('order_size',axis=1)\n",
    "y_3 = df_3['order_size']"
   ]
  },
  {
   "cell_type": "code",
   "execution_count": 192,
   "id": "c519d30d-bfbc-4637-8bd6-1ba73e6be08d",
   "metadata": {},
   "outputs": [],
   "source": [
    "X_train3, X_test3, y_train3, y_test3 = train_test_split(X_3, y_3, test_size=0.2, random_state=123)"
   ]
  },
  {
   "cell_type": "code",
   "execution_count": 198,
   "id": "538847d3-7b23-4a7a-a691-70f0741095c3",
   "metadata": {},
   "outputs": [],
   "source": [
    "model3 = xgb.XGBRegressor(n_estimators=500, \n",
    "                        learning_rate = 0.01)"
   ]
  },
  {
   "cell_type": "code",
   "execution_count": 199,
   "id": "c862e4b5-a945-474e-8862-53c2dd9d4c67",
   "metadata": {},
   "outputs": [
    {
     "data": {
      "text/plain": [
       "XGBRegressor(base_score=0.5, booster='gbtree', colsample_bylevel=1,\n",
       "             colsample_bynode=1, colsample_bytree=1, gamma=0, gpu_id=-1,\n",
       "             importance_type='gain', interaction_constraints='',\n",
       "             learning_rate=0.01, max_delta_step=0, max_depth=6,\n",
       "             min_child_weight=1, missing=nan, monotone_constraints='()',\n",
       "             n_estimators=500, n_jobs=8, num_parallel_tree=1, random_state=0,\n",
       "             reg_alpha=0, reg_lambda=1, scale_pos_weight=1, subsample=1,\n",
       "             tree_method='exact', validate_parameters=1, verbosity=None)"
      ]
     },
     "execution_count": 199,
     "metadata": {},
     "output_type": "execute_result"
    }
   ],
   "source": [
    "model3.fit(X_train3, y_train3)"
   ]
  },
  {
   "cell_type": "code",
   "execution_count": 200,
   "id": "fb74d61b-e730-491f-81e3-6a015c11d930",
   "metadata": {},
   "outputs": [],
   "source": [
    "y_preds3 = model3.predict(X_test3)"
   ]
  },
  {
   "cell_type": "code",
   "execution_count": 201,
   "id": "a94ccef4-d2d1-4867-a599-37704ef927e1",
   "metadata": {},
   "outputs": [
    {
     "name": "stdout",
     "output_type": "stream",
     "text": [
      "explained variance : 0.9166\n",
      "mean squared log error : 0.0045\n",
      "r2 : 0.8981\n",
      "MAE : 51.6425\n",
      "MSE : 5959.7327\n",
      "RMSE : 77.1993\n"
     ]
    }
   ],
   "source": [
    "regression_results(y_test3, y_preds3)"
   ]
  },
  {
   "cell_type": "code",
   "execution_count": 197,
   "id": "bd114efd-eb1d-4c79-a969-a41abf6ba86e",
   "metadata": {},
   "outputs": [
    {
     "data": {
      "text/html": [
       "<div>\n",
       "<style scoped>\n",
       "    .dataframe tbody tr th:only-of-type {\n",
       "        vertical-align: middle;\n",
       "    }\n",
       "\n",
       "    .dataframe tbody tr th {\n",
       "        vertical-align: top;\n",
       "    }\n",
       "\n",
       "    .dataframe thead th {\n",
       "        text-align: right;\n",
       "    }\n",
       "</style>\n",
       "<table border=\"1\" class=\"dataframe\">\n",
       "  <thead>\n",
       "    <tr style=\"text-align: right;\">\n",
       "      <th></th>\n",
       "      <th>order_load_year</th>\n",
       "      <th>order_load_week</th>\n",
       "      <th>distance</th>\n",
       "    </tr>\n",
       "  </thead>\n",
       "  <tbody>\n",
       "    <tr>\n",
       "      <th>107</th>\n",
       "      <td>2021</td>\n",
       "      <td>3</td>\n",
       "      <td>161744</td>\n",
       "    </tr>\n",
       "    <tr>\n",
       "      <th>129</th>\n",
       "      <td>2021</td>\n",
       "      <td>25</td>\n",
       "      <td>176248</td>\n",
       "    </tr>\n",
       "    <tr>\n",
       "      <th>133</th>\n",
       "      <td>2021</td>\n",
       "      <td>29</td>\n",
       "      <td>136726</td>\n",
       "    </tr>\n",
       "    <tr>\n",
       "      <th>47</th>\n",
       "      <td>2019</td>\n",
       "      <td>48</td>\n",
       "      <td>178851</td>\n",
       "    </tr>\n",
       "    <tr>\n",
       "      <th>33</th>\n",
       "      <td>2019</td>\n",
       "      <td>34</td>\n",
       "      <td>124486</td>\n",
       "    </tr>\n",
       "    <tr>\n",
       "      <th>61</th>\n",
       "      <td>2020</td>\n",
       "      <td>10</td>\n",
       "      <td>184316</td>\n",
       "    </tr>\n",
       "    <tr>\n",
       "      <th>121</th>\n",
       "      <td>2021</td>\n",
       "      <td>17</td>\n",
       "      <td>212124</td>\n",
       "    </tr>\n",
       "    <tr>\n",
       "      <th>37</th>\n",
       "      <td>2019</td>\n",
       "      <td>38</td>\n",
       "      <td>181031</td>\n",
       "    </tr>\n",
       "    <tr>\n",
       "      <th>6</th>\n",
       "      <td>2019</td>\n",
       "      <td>7</td>\n",
       "      <td>138810</td>\n",
       "    </tr>\n",
       "    <tr>\n",
       "      <th>74</th>\n",
       "      <td>2020</td>\n",
       "      <td>23</td>\n",
       "      <td>195927</td>\n",
       "    </tr>\n",
       "    <tr>\n",
       "      <th>105</th>\n",
       "      <td>2021</td>\n",
       "      <td>1</td>\n",
       "      <td>179717</td>\n",
       "    </tr>\n",
       "    <tr>\n",
       "      <th>81</th>\n",
       "      <td>2020</td>\n",
       "      <td>30</td>\n",
       "      <td>125930</td>\n",
       "    </tr>\n",
       "    <tr>\n",
       "      <th>2</th>\n",
       "      <td>2019</td>\n",
       "      <td>3</td>\n",
       "      <td>184058</td>\n",
       "    </tr>\n",
       "    <tr>\n",
       "      <th>135</th>\n",
       "      <td>2021</td>\n",
       "      <td>31</td>\n",
       "      <td>161062</td>\n",
       "    </tr>\n",
       "    <tr>\n",
       "      <th>122</th>\n",
       "      <td>2021</td>\n",
       "      <td>18</td>\n",
       "      <td>142133</td>\n",
       "    </tr>\n",
       "    <tr>\n",
       "      <th>110</th>\n",
       "      <td>2021</td>\n",
       "      <td>6</td>\n",
       "      <td>58634</td>\n",
       "    </tr>\n",
       "    <tr>\n",
       "      <th>35</th>\n",
       "      <td>2019</td>\n",
       "      <td>36</td>\n",
       "      <td>147901</td>\n",
       "    </tr>\n",
       "    <tr>\n",
       "      <th>26</th>\n",
       "      <td>2019</td>\n",
       "      <td>27</td>\n",
       "      <td>164890</td>\n",
       "    </tr>\n",
       "    <tr>\n",
       "      <th>132</th>\n",
       "      <td>2021</td>\n",
       "      <td>28</td>\n",
       "      <td>134953</td>\n",
       "    </tr>\n",
       "    <tr>\n",
       "      <th>40</th>\n",
       "      <td>2019</td>\n",
       "      <td>41</td>\n",
       "      <td>145015</td>\n",
       "    </tr>\n",
       "    <tr>\n",
       "      <th>10</th>\n",
       "      <td>2019</td>\n",
       "      <td>11</td>\n",
       "      <td>145314</td>\n",
       "    </tr>\n",
       "    <tr>\n",
       "      <th>7</th>\n",
       "      <td>2019</td>\n",
       "      <td>8</td>\n",
       "      <td>191955</td>\n",
       "    </tr>\n",
       "    <tr>\n",
       "      <th>18</th>\n",
       "      <td>2019</td>\n",
       "      <td>19</td>\n",
       "      <td>188268</td>\n",
       "    </tr>\n",
       "    <tr>\n",
       "      <th>15</th>\n",
       "      <td>2019</td>\n",
       "      <td>16</td>\n",
       "      <td>188870</td>\n",
       "    </tr>\n",
       "    <tr>\n",
       "      <th>143</th>\n",
       "      <td>2021</td>\n",
       "      <td>39</td>\n",
       "      <td>224996</td>\n",
       "    </tr>\n",
       "    <tr>\n",
       "      <th>64</th>\n",
       "      <td>2020</td>\n",
       "      <td>13</td>\n",
       "      <td>153212</td>\n",
       "    </tr>\n",
       "    <tr>\n",
       "      <th>30</th>\n",
       "      <td>2019</td>\n",
       "      <td>31</td>\n",
       "      <td>224023</td>\n",
       "    </tr>\n",
       "    <tr>\n",
       "      <th>22</th>\n",
       "      <td>2019</td>\n",
       "      <td>23</td>\n",
       "      <td>177291</td>\n",
       "    </tr>\n",
       "    <tr>\n",
       "      <th>44</th>\n",
       "      <td>2019</td>\n",
       "      <td>45</td>\n",
       "      <td>199959</td>\n",
       "    </tr>\n",
       "  </tbody>\n",
       "</table>\n",
       "</div>"
      ],
      "text/plain": [
       "     order_load_year  order_load_week  distance\n",
       "107             2021                3    161744\n",
       "129             2021               25    176248\n",
       "133             2021               29    136726\n",
       "47              2019               48    178851\n",
       "33              2019               34    124486\n",
       "61              2020               10    184316\n",
       "121             2021               17    212124\n",
       "37              2019               38    181031\n",
       "6               2019                7    138810\n",
       "74              2020               23    195927\n",
       "105             2021                1    179717\n",
       "81              2020               30    125930\n",
       "2               2019                3    184058\n",
       "135             2021               31    161062\n",
       "122             2021               18    142133\n",
       "110             2021                6     58634\n",
       "35              2019               36    147901\n",
       "26              2019               27    164890\n",
       "132             2021               28    134953\n",
       "40              2019               41    145015\n",
       "10              2019               11    145314\n",
       "7               2019                8    191955\n",
       "18              2019               19    188268\n",
       "15              2019               16    188870\n",
       "143             2021               39    224996\n",
       "64              2020               13    153212\n",
       "30              2019               31    224023\n",
       "22              2019               23    177291\n",
       "44              2019               45    199959"
      ]
     },
     "execution_count": 197,
     "metadata": {},
     "output_type": "execute_result"
    }
   ],
   "source": [
    "X_test3"
   ]
  },
  {
   "cell_type": "code",
   "execution_count": 202,
   "id": "23e89dd9-94ea-4bcf-aada-f0a1dd3a0852",
   "metadata": {},
   "outputs": [],
   "source": [
    "df_4 = df_3.drop('distance',axis=1)"
   ]
  },
  {
   "cell_type": "code",
   "execution_count": 203,
   "id": "f43037fc-7a5e-470e-9b31-37465171c690",
   "metadata": {},
   "outputs": [],
   "source": [
    "X_4 = df_4.drop('order_size',axis=1)\n",
    "y_4 = df_4['order_size']"
   ]
  },
  {
   "cell_type": "code",
   "execution_count": 204,
   "id": "4bec86db-a5ad-4ea1-9959-38f58e599537",
   "metadata": {},
   "outputs": [],
   "source": [
    "X_train4, X_test4, y_train4, y_test4 = train_test_split(X_4, y_4, test_size=0.2, random_state=123)"
   ]
  },
  {
   "cell_type": "code",
   "execution_count": 206,
   "id": "dd8066cc-8ddb-414e-8211-ba61ac31fac6",
   "metadata": {},
   "outputs": [],
   "source": [
    "model4 = xgb.XGBRegressor(n_estimators=500, \n",
    "                        learning_rate = 0.01)"
   ]
  },
  {
   "cell_type": "code",
   "execution_count": 209,
   "id": "226096f6-43a3-407d-b38f-17e7f1aa9de8",
   "metadata": {},
   "outputs": [
    {
     "data": {
      "text/plain": [
       "XGBRegressor(base_score=0.5, booster='gbtree', colsample_bylevel=1,\n",
       "             colsample_bynode=1, colsample_bytree=1, gamma=0, gpu_id=-1,\n",
       "             importance_type='gain', interaction_constraints='',\n",
       "             learning_rate=0.01, max_delta_step=0, max_depth=6,\n",
       "             min_child_weight=1, missing=nan, monotone_constraints='()',\n",
       "             n_estimators=500, n_jobs=8, num_parallel_tree=1, random_state=0,\n",
       "             reg_alpha=0, reg_lambda=1, scale_pos_weight=1, subsample=1,\n",
       "             tree_method='exact', validate_parameters=1, verbosity=None)"
      ]
     },
     "execution_count": 209,
     "metadata": {},
     "output_type": "execute_result"
    }
   ],
   "source": [
    "model4.fit(X_train4, y_train4)"
   ]
  },
  {
   "cell_type": "code",
   "execution_count": 210,
   "id": "b3a850d0-1227-4f21-9e34-31fc6bac690c",
   "metadata": {},
   "outputs": [],
   "source": [
    "y_preds4 = model4.predict(X_test4)"
   ]
  },
  {
   "cell_type": "code",
   "execution_count": 211,
   "id": "5f99e542-36dc-41ac-b9fd-43d9aacb1c08",
   "metadata": {},
   "outputs": [
    {
     "name": "stdout",
     "output_type": "stream",
     "text": [
      "explained variance : -0.845\n",
      "mean squared log error : 0.1324\n",
      "r2 : -0.9254\n",
      "MAE : 260.4996\n",
      "MSE : 112644.198\n",
      "RMSE : 335.6251\n"
     ]
    }
   ],
   "source": [
    "regression_results(y_test4, y_preds4)"
   ]
  },
  {
   "cell_type": "code",
   "execution_count": 213,
   "id": "3464a522-7d93-4aaa-a2b9-4768e9ff6c77",
   "metadata": {},
   "outputs": [],
   "source": [
    "corr_2 = df_2.corr()"
   ]
  },
  {
   "cell_type": "code",
   "execution_count": 214,
   "id": "ca7138ef-3c89-482b-bd20-6f8c586f6659",
   "metadata": {},
   "outputs": [
    {
     "data": {
      "text/plain": [
       "<AxesSubplot:>"
      ]
     },
     "execution_count": 214,
     "metadata": {},
     "output_type": "execute_result"
    },
    {
     "data": {
      "image/png": "[encoded data removed]",
      "text/plain": [
       "<Figure size 864x720 with 2 Axes>"
      ]
     },
     "metadata": {
      "needs_background": "light"
     },
     "output_type": "display_data"
    }
   ],
   "source": [
    "# create heatmap\n",
    "f, ax = plt.subplots(figsize=(12, 10))\n",
    "\n",
    "#masking top half\n",
    "mask = np.triu(np.ones_like(corr_2, dtype=bool))\n",
    "\n",
    "# Configure a custom diverging colormap\n",
    "cmap = sns.diverging_palette(230, 20, as_cmap=True)\n",
    "\n",
    "# create heatmap\n",
    "sns.heatmap(corr_2, annot=True, mask = mask, cmap=cmap)"
   ]
  },
  {
   "cell_type": "code",
   "execution_count": null,
   "id": "1f02e0f0-cb59-4afd-8510-4eb2f0f7ff05",
   "metadata": {},
   "outputs": [],
   "source": []
  }
 ],
 "metadata": {
  "kernelspec": {
   "display_name": "Python 3",
   "language": "python",
   "name": "python3"
  },
  "language_info": {
   "codemirror_mode": {
    "name": "ipython",
    "version": 3
   },
   "file_extension": ".py",
   "mimetype": "text/x-python",
   "name": "python",
   "nbconvert_exporter": "python",
   "pygments_lexer": "ipython3",
   "version": "3.8.8"
  }
 },
 "nbformat": 4,
 "nbformat_minor": 5
}
