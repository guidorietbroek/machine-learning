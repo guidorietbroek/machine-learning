{
 "cells": [
  {
   "cell_type": "code",
   "execution_count": 4,
   "id": "fdc47df6-fc2d-4e3c-a2f8-1a118b3044c1",
   "metadata": {},
   "outputs": [],
   "source": [
    "import numpy as np\n",
    "import pandas as pd\n",
    "import seaborn as sns\n",
    "import matplotlib.pyplot as plt"
   ]
  },
  {
   "cell_type": "code",
   "execution_count": 5,
   "id": "591a1f57-7d09-4ad7-99b3-6ad2d7298258",
   "metadata": {},
   "outputs": [],
   "source": [
    "df = pd.read_csv('cleaned_data.csv')"
   ]
  },
  {
   "cell_type": "code",
   "execution_count": 6,
   "id": "b75e7757-67b4-406a-b370-a9f2ce05a60a",
   "metadata": {},
   "outputs": [],
   "source": [
    "df['order_weight'] = df['order_weight'].replace(0.0, np.nan)"
   ]
  },
  {
   "cell_type": "code",
   "execution_count": 7,
   "id": "2ebae89a-12c3-4fb4-a18e-6de78ee7aa5b",
   "metadata": {},
   "outputs": [
    {
     "data": {
      "text/plain": [
       "216988    1.0\n",
       "184585    1.0\n",
       "52622     1.0\n",
       "76695     1.0\n",
       "123129    1.0\n",
       "         ... \n",
       "232879    NaN\n",
       "232955    NaN\n",
       "232962    NaN\n",
       "232978    NaN\n",
       "233004    NaN\n",
       "Name: order_weight, Length: 233016, dtype: float64"
      ]
     },
     "execution_count": 7,
     "metadata": {},
     "output_type": "execute_result"
    }
   ],
   "source": [
    "df['order_weight'].sort_values()"
   ]
  },
  {
   "cell_type": "code",
   "execution_count": 8,
   "id": "a3b55482-c79a-469d-a32f-456810d2d3c7",
   "metadata": {},
   "outputs": [
    {
     "data": {
      "text/plain": [
       "<AxesSubplot:xlabel='order_class_size', ylabel='order_weight'>"
      ]
     },
     "execution_count": 8,
     "metadata": {},
     "output_type": "execute_result"
    },
    {
     "data": {
      "image/png": "[encoded data removed]",
      "text/plain": [
       "<Figure size 864x288 with 1 Axes>"
      ]
     },
     "metadata": {
      "needs_background": "light"
     },
     "output_type": "display_data"
    }
   ],
   "source": [
    "plt.figure(figsize=(12,4))\n",
    "sns.boxplot(x='order_class_size',\n",
    "           y='order_weight',\n",
    "           data=df,\n",
    "           palette='winter')"
   ]
  },
  {
   "cell_type": "code",
   "execution_count": 9,
   "id": "6cb1e304-82a3-4bc4-9c77-e67f79a0d77d",
   "metadata": {},
   "outputs": [
    {
     "data": {
      "text/plain": [
       "order_class_size\n",
       "Klein    375.0\n",
       "Name: order_weight, dtype: float64"
      ]
     },
     "execution_count": 9,
     "metadata": {},
     "output_type": "execute_result"
    }
   ],
   "source": [
    "df.groupby(by='order_class_size').median()['order_weight']"
   ]
  },
  {
   "cell_type": "code",
   "execution_count": 10,
   "id": "8a1284d8-48cd-4a12-aefe-3dc3769406b2",
   "metadata": {},
   "outputs": [
    {
     "data": {
      "text/plain": [
       "561.6238124015435"
      ]
     },
     "execution_count": 10,
     "metadata": {},
     "output_type": "execute_result"
    }
   ],
   "source": [
    "# show the difference between mean globally and defined by order_class_size\n",
    "df['order_weight'].mean()"
   ]
  },
  {
   "cell_type": "code",
   "execution_count": 12,
   "id": "05e721ea-5e17-4ce8-be3c-2a0320214222",
   "metadata": {},
   "outputs": [],
   "source": [
    "#after correcting the data with IQR, it seems that order_size_class only consist of one category. Before\n",
    "#I had more, so this code is purely to demonstrate how it is possible to calc medians per category and fill them\n",
    "#in the dataset\n",
    "def impute_order_weight(cols):\n",
    "    order_weight=cols[0]\n",
    "    order_class_size=cols[1]\n",
    "    \n",
    "    if pd.isnull(order_weight):\n",
    "        if order_class_size == 'Klein':\n",
    "            return 424\n",
    "        if order_class_size == 'Middel':\n",
    "            return 3153\n",
    "        if order_class_size == 'MiddelGroot':\n",
    "            return 4953\n",
    "        else:\n",
    "            return 7929\n",
    "    \n",
    "    else:\n",
    "        return order_weight"
   ]
  },
  {
   "cell_type": "code",
   "execution_count": 13,
   "id": "db38fa6a-42a6-463c-82b4-690f4f5003e0",
   "metadata": {},
   "outputs": [],
   "source": [
    "df_copy = df.copy()"
   ]
  },
  {
   "cell_type": "code",
   "execution_count": 14,
   "id": "589d7238-aef9-4f4a-be7d-6abe4885c2a2",
   "metadata": {},
   "outputs": [],
   "source": [
    "df_copy['order_weight'] = df_copy[['order_weight','order_class_size']].apply(impute_order_weight, axis=1)"
   ]
  },
  {
   "cell_type": "code",
   "execution_count": 15,
   "id": "d80b65fe-a4d4-48e9-b2b2-e9df8a8411dd",
   "metadata": {},
   "outputs": [
    {
     "data": {
      "text/plain": [
       "<AxesSubplot:>"
      ]
     },
     "execution_count": 15,
     "metadata": {},
     "output_type": "execute_result"
    },
    {
     "data": {
      "image/png": "[encoded data removed]",
      "text/plain": [
       "<Figure size 864x288 with 1 Axes>"
      ]
     },
     "metadata": {
      "needs_background": "light"
     },
     "output_type": "display_data"
    }
   ],
   "source": [
    "plt.figure(figsize=(12,4))\n",
    "sns.heatmap(data=df_copy.isnull(),\n",
    "           yticklabels=False,\n",
    "           cbar=False,\n",
    "           cmap='viridis')"
   ]
  },
  {
   "cell_type": "code",
   "execution_count": 16,
   "id": "4783fabf-6e40-4f4e-ad8c-a9a8e6ed2476",
   "metadata": {},
   "outputs": [
    {
     "data": {
      "text/plain": [
       "531.603209693755"
      ]
     },
     "execution_count": 16,
     "metadata": {},
     "output_type": "execute_result"
    }
   ],
   "source": [
    "df_copy['order_weight'].mean()"
   ]
  },
  {
   "cell_type": "code",
   "execution_count": 17,
   "id": "021638ec-897e-44ce-a35b-d28d8612273b",
   "metadata": {},
   "outputs": [],
   "source": [
    "#repeat above steps with main dataframe\n",
    "df['order_weight'] = df[['order_weight','order_class_size']].apply(impute_order_weight, axis=1)"
   ]
  },
  {
   "cell_type": "code",
   "execution_count": 18,
   "id": "b9b3a97b-fafd-4abe-ad50-6cf178a1e454",
   "metadata": {},
   "outputs": [
    {
     "data": {
      "text/plain": [
       "0"
      ]
     },
     "execution_count": 18,
     "metadata": {},
     "output_type": "execute_result"
    }
   ],
   "source": [
    "df['order_weight'].isnull().sum()"
   ]
  },
  {
   "cell_type": "code",
   "execution_count": 19,
   "id": "60d714fa-2fd7-43b8-82f1-272ccf0e67dd",
   "metadata": {},
   "outputs": [],
   "source": [
    "df[['order_load_date','order_unload_date', 'order_create_date']] = df[['order_load_date','order_unload_date', 'order_create_date']].apply(pd.to_datetime)"
   ]
  },
  {
   "cell_type": "code",
   "execution_count": 20,
   "id": "6b6733e3-24cb-4514-aeae-ae1a4db18b66",
   "metadata": {},
   "outputs": [],
   "source": [
    "df = pd.get_dummies(data=df, columns=['ritsoort','order_kind', 'order_dep','order_class', 'order_class_size'], drop_first=True)"
   ]
  },
  {
   "cell_type": "code",
   "execution_count": 21,
   "id": "8cccf8b4-cc60-4264-9694-283c2d372e55",
   "metadata": {},
   "outputs": [
    {
     "data": {
      "text/plain": [
       "(233016, 45)"
      ]
     },
     "execution_count": 21,
     "metadata": {},
     "output_type": "execute_result"
    }
   ],
   "source": [
    "df.shape"
   ]
  },
  {
   "cell_type": "code",
   "execution_count": 22,
   "id": "e38436d2-c3de-4234-8318-98d2e6845ca6",
   "metadata": {},
   "outputs": [],
   "source": [
    "df_1 = df[['order_load_date','order_size']]"
   ]
  },
  {
   "cell_type": "code",
   "execution_count": 23,
   "id": "8d55ab11-76c5-425b-bb18-7e063efce4dd",
   "metadata": {},
   "outputs": [
    {
     "name": "stdout",
     "output_type": "stream",
     "text": [
      "<class 'pandas.core.frame.DataFrame'>\n",
      "RangeIndex: 233016 entries, 0 to 233015\n",
      "Data columns (total 2 columns):\n",
      " #   Column           Non-Null Count   Dtype         \n",
      "---  ------           --------------   -----         \n",
      " 0   order_load_date  233016 non-null  datetime64[ns]\n",
      " 1   order_size       233016 non-null  float64       \n",
      "dtypes: datetime64[ns](1), float64(1)\n",
      "memory usage: 3.6 MB\n"
     ]
    }
   ],
   "source": [
    "df_1.info()"
   ]
  },
  {
   "cell_type": "code",
   "execution_count": 28,
   "id": "a1696cc1-48fb-41f0-bce2-d07a1c36bf3b",
   "metadata": {},
   "outputs": [],
   "source": [
    "#transform data to timeseries\n",
    "df_1 = df_1.groupby(by='order_load_date').sum()"
   ]
  },
  {
   "cell_type": "code",
   "execution_count": 30,
   "id": "82779326-c999-46d3-97d8-550e758d3abb",
   "metadata": {},
   "outputs": [
    {
     "data": {
      "text/plain": [
       "DatetimeIndex(['2018-12-31', '2019-01-02', '2019-01-03', '2019-01-04',\n",
       "               '2019-01-05', '2019-01-07', '2019-01-08', '2019-01-10',\n",
       "               '2019-01-11', '2019-01-14',\n",
       "               ...\n",
       "               '2021-09-22', '2021-09-23', '2021-09-24', '2021-09-26',\n",
       "               '2021-09-27', '2021-09-28', '2021-09-29', '2021-09-30',\n",
       "               '2021-10-02', '2021-10-03'],\n",
       "              dtype='datetime64[ns]', name='order_load_date', length=780, freq=None)"
      ]
     },
     "execution_count": 30,
     "metadata": {},
     "output_type": "execute_result"
    }
   ],
   "source": [
    "df_1.index"
   ]
  },
  {
   "cell_type": "code",
   "execution_count": 33,
   "id": "431bce83-7a1b-4030-890f-5c72a6af63bf",
   "metadata": {},
   "outputs": [],
   "source": [
    "#set timeseries frequientie to Day\n",
    "df_1 = df_1.asfreq('D', fill_value=0)"
   ]
  },
  {
   "cell_type": "code",
   "execution_count": 34,
   "id": "b3bfb6a3-875c-4d1f-be04-a8f044f2ebc6",
   "metadata": {},
   "outputs": [
    {
     "data": {
      "text/plain": [
       "DatetimeIndex(['2018-12-31', '2019-01-01', '2019-01-02', '2019-01-03',\n",
       "               '2019-01-04', '2019-01-05', '2019-01-06', '2019-01-07',\n",
       "               '2019-01-08', '2019-01-09',\n",
       "               ...\n",
       "               '2021-09-24', '2021-09-25', '2021-09-26', '2021-09-27',\n",
       "               '2021-09-28', '2021-09-29', '2021-09-30', '2021-10-01',\n",
       "               '2021-10-02', '2021-10-03'],\n",
       "              dtype='datetime64[ns]', name='order_load_date', length=1008, freq='D')"
      ]
     },
     "execution_count": 34,
     "metadata": {},
     "output_type": "execute_result"
    }
   ],
   "source": [
    "df_1.index"
   ]
  },
  {
   "cell_type": "code",
   "execution_count": 35,
   "id": "effbd11b-d2b7-4631-9374-46e017e42e67",
   "metadata": {},
   "outputs": [
    {
     "data": {
      "text/plain": [
       "<AxesSubplot:xlabel='order_load_date'>"
      ]
     },
     "execution_count": 35,
     "metadata": {},
     "output_type": "execute_result"
    },
    {
     "data": {
      "image/png": "[encoded data removed]",
      "text/plain": [
       "<Figure size 720x288 with 1 Axes>"
      ]
     },
     "metadata": {
      "needs_background": "light"
     },
     "output_type": "display_data"
    }
   ],
   "source": [
    "plt.figure(figsize=(10,4))\n",
    "df_1['order_size'].plot(linewidth=0.5)"
   ]
  },
  {
   "cell_type": "code",
   "execution_count": 36,
   "id": "98b247b5-3358-4a36-b00e-6f4bf0cf3bbb",
   "metadata": {},
   "outputs": [
    {
     "data": {
      "text/plain": [
       "<AxesSubplot:xlabel='order_load_date'>"
      ]
     },
     "execution_count": 36,
     "metadata": {},
     "output_type": "execute_result"
    },
    {
     "data": {
      "image/png": "[encoded data removed]",
      "text/plain": [
       "<Figure size 720x288 with 1 Axes>"
      ]
     },
     "metadata": {
      "needs_background": "light"
     },
     "output_type": "display_data"
    }
   ],
   "source": [
    "plt.figure(figsize=(10,4))\n",
    "df_1.loc['2019-06':'2019-08', 'order_size'].plot(marker='o')\n",
    "#df_1.loc['2020-06':'2020-08', 'order_size'].plot(marker='o')\n"
   ]
  },
  {
   "cell_type": "code",
   "execution_count": 37,
   "id": "975573d1-6756-4130-8147-468af597a4b5",
   "metadata": {},
   "outputs": [
    {
     "data": {
      "text/plain": [
       "<AxesSubplot:xlabel='Lag', ylabel='Autocorrelation'>"
      ]
     },
     "execution_count": 37,
     "metadata": {},
     "output_type": "execute_result"
    },
    {
     "data": {
      "image/png": "[encoded data removed]",
      "text/plain": [
       "<Figure size 800x320 with 1 Axes>"
      ]
     },
     "metadata": {
      "needs_background": "light"
     },
     "output_type": "display_data"
    }
   ],
   "source": [
    "plt.figure(figsize=(10,4), dpi=80)\n",
    "pd.plotting.autocorrelation_plot(df_1.loc['2019-06':'2019-08', 'order_size'])"
   ]
  },
  {
   "cell_type": "code",
   "execution_count": 38,
   "id": "eac8af9c-0f4f-43e6-ab85-300cbfea4b33",
   "metadata": {},
   "outputs": [],
   "source": [
    "df_1['year'] = df_1.index.isocalendar().year\n",
    "df_1['week'] = df_1.index.isocalendar().week\n",
    "df_1['day'] = df_1.index.isocalendar().day"
   ]
  },
  {
   "cell_type": "code",
   "execution_count": 45,
   "id": "016a0c23-6c1c-496e-b1fd-b8394d51e9d5",
   "metadata": {},
   "outputs": [
    {
     "name": "stdout",
     "output_type": "stream",
     "text": [
      "<class 'pandas.core.frame.DataFrame'>\n",
      "DatetimeIndex: 1008 entries, 2018-12-31 to 2021-10-03\n",
      "Freq: D\n",
      "Data columns (total 4 columns):\n",
      " #   Column      Non-Null Count  Dtype  \n",
      "---  ------      --------------  -----  \n",
      " 0   order_size  1008 non-null   float64\n",
      " 1   year        1008 non-null   UInt32 \n",
      " 2   week        1008 non-null   UInt32 \n",
      " 3   day         1008 non-null   UInt32 \n",
      "dtypes: UInt32(3), float64(1)\n",
      "memory usage: 62.8 KB\n"
     ]
    }
   ],
   "source": [
    "df_1.info()"
   ]
  },
  {
   "cell_type": "code",
   "execution_count": 40,
   "id": "e4f7c315-c089-48a3-9454-f3bc3d16f4ae",
   "metadata": {},
   "outputs": [
    {
     "data": {
      "text/plain": [
       "<AxesSubplot:xlabel='week', ylabel='order_size'>"
      ]
     },
     "execution_count": 40,
     "metadata": {},
     "output_type": "execute_result"
    },
    {
     "data": {
      "image/png": "[encoded data removed]",
      "text/plain": [
       "<Figure size 864x288 with 1 Axes>"
      ]
     },
     "metadata": {
      "needs_background": "light"
     },
     "output_type": "display_data"
    }
   ],
   "source": [
    "fig, axes = plt.subplots(figsize=(12,4), sharex=True)\n",
    "sns.boxplot(data=df_1, x='week', y='order_size')"
   ]
  },
  {
   "cell_type": "code",
   "execution_count": 41,
   "id": "cb2c6d3b-90eb-4393-892d-f038b1df7e95",
   "metadata": {},
   "outputs": [],
   "source": [
    "import sklearn.metrics as metrics\n",
    "from sklearn.model_selection import train_test_split\n",
    "from sklearn.preprocessing import StandardScaler"
   ]
  },
  {
   "cell_type": "code",
   "execution_count": 42,
   "id": "8c26c583-b09b-4344-af12-eb01da9d05cf",
   "metadata": {},
   "outputs": [],
   "source": [
    "def regression_results(y_true, y_pred):\n",
    "    #regression metrics\n",
    "    explained_variance = metrics.explained_variance_score(y_true, y_pred)\n",
    "    mean_absolute_error = metrics.mean_absolute_error(y_true, y_pred)\n",
    "    mse = metrics.mean_squared_error(y_true, y_pred)\n",
    "    mean_squared_log_error = metrics.mean_squared_log_error(y_true, y_pred)\n",
    "    median_absolute_error = metrics.median_absolute_error(y_true, y_pred)\n",
    "    r2 = metrics.r2_score(y_true, y_pred)\n",
    "    \n",
    "    print('explained variance :',round(explained_variance,4))\n",
    "    print('mean squared log error :', round(mean_squared_log_error,4))\n",
    "    print('r2 :',round(r2,4))\n",
    "    print('MAE :',round(mean_absolute_error,4))\n",
    "    print('MSE :',round(mse,4))\n",
    "    print('RMSE :',round(np.sqrt(mse),4))\n",
    "    "
   ]
  },
  {
   "cell_type": "code",
   "execution_count": 238,
   "id": "c7d1f7c0-c4c2-4b38-9039-53232851ce52",
   "metadata": {},
   "outputs": [],
   "source": [
    "#add columns yesterday lag and difference with yesterday\n",
    "#df_1['yesterday'] = df_1['order_size'].shift()\n",
    "#df_1['yesterday_diff'] = df_1['yesterday'].diff()"
   ]
  },
  {
   "cell_type": "code",
   "execution_count": 240,
   "id": "e580110f-0f42-41d7-be53-8b13c7814bed",
   "metadata": {},
   "outputs": [],
   "source": [
    "#drop na\n",
    "#df_1 = df_1.dropna()"
   ]
  },
  {
   "cell_type": "code",
   "execution_count": 43,
   "id": "3899b53a-b7cf-453a-bbfd-34343b22e735",
   "metadata": {},
   "outputs": [
    {
     "data": {
      "text/plain": [
       "<bound method DataFrame.sort_values of                  order_size  year  week  day\n",
       "order_load_date                             \n",
       "2018-12-31         45.37500  2019     1    1\n",
       "2019-01-01          0.00000  2019     1    2\n",
       "2019-01-02        221.35570  2019     1    3\n",
       "2019-01-03        254.63450  2019     1    4\n",
       "2019-01-04        208.07718  2019     1    5>"
      ]
     },
     "execution_count": 43,
     "metadata": {},
     "output_type": "execute_result"
    }
   ],
   "source": [
    "#create train en test set 50/50\n",
    "#X_train = df_1.loc[:'2019'].drop('order_size', axis=1)\n",
    "#y_train = df_1.loc[:'2019', 'order_size']\n",
    "#X_test = df_1.loc['2020'].drop('order_size', axis=1)\n",
    "#y_test = df_1.loc['2020', 'order_size']\n",
    "df_1.head().sort_values"
   ]
  },
  {
   "cell_type": "code",
   "execution_count": 46,
   "id": "d1c4a228-3e1b-4f22-b324-4a964d444ddf",
   "metadata": {},
   "outputs": [],
   "source": [
    "X = df_1.drop(['order_size'], axis=1)\n",
    "y = df_1['order_size']"
   ]
  },
  {
   "cell_type": "code",
   "execution_count": 47,
   "id": "3bcf85bb-712c-445d-95ca-1c3ac1818282",
   "metadata": {},
   "outputs": [],
   "source": [
    "X_train, X_test, y_train, y_test = train_test_split(X, y, test_size=0.3, random_state=100)"
   ]
  },
  {
   "cell_type": "code",
   "execution_count": 453,
   "id": "92ea46de-23e2-415e-891b-aa272d5386a0",
   "metadata": {},
   "outputs": [],
   "source": [
    "#scaler = StandardScaler()"
   ]
  },
  {
   "cell_type": "code",
   "execution_count": 48,
   "id": "518f1ad4-0d36-4f82-8af5-bff224207a8b",
   "metadata": {},
   "outputs": [],
   "source": [
    "#scaler.fit(X_train)\n",
    "#X_train = scaler.transform(X_train)\n",
    "#X_test = scaler.transform(X_test)"
   ]
  },
  {
   "cell_type": "code",
   "execution_count": 49,
   "id": "08f3fe57-1e03-47cb-a251-64ecd1f12d27",
   "metadata": {},
   "outputs": [
    {
     "data": {
      "text/plain": [
       "(705, 3)"
      ]
     },
     "execution_count": 49,
     "metadata": {},
     "output_type": "execute_result"
    }
   ],
   "source": [
    "X_train.shape"
   ]
  },
  {
   "cell_type": "code",
   "execution_count": 50,
   "id": "8e312494-3108-4383-bd4c-e4f347f56721",
   "metadata": {},
   "outputs": [],
   "source": [
    "from sklearn.model_selection import TimeSeriesSplit"
   ]
  },
  {
   "cell_type": "code",
   "execution_count": 51,
   "id": "012dd77f-794e-4279-9828-f02f86747c61",
   "metadata": {},
   "outputs": [],
   "source": [
    "from sklearn.linear_model import LinearRegression\n",
    "from sklearn.neural_network import MLPRegressor\n",
    "from sklearn.neighbors import KNeighborsRegressor\n",
    "from sklearn.ensemble import RandomForestRegressor\n",
    "from sklearn.svm import SVR"
   ]
  },
  {
   "cell_type": "code",
   "execution_count": 52,
   "id": "a4df0b25-ab57-4cff-9c11-a73ef0720dbd",
   "metadata": {},
   "outputs": [],
   "source": [
    "models = []\n",
    "models.append(('LR', LinearRegression(n_jobs=5)))\n",
    "models.append(('NN', MLPRegressor(solver='lbfgs', max_iter=1000)))\n",
    "models.append(('KNN', KNeighborsRegressor()))\n",
    "models.append(('RF', RandomForestRegressor(n_estimators=10)))\n",
    "models.append(('SVR', SVR(gamma='auto')))"
   ]
  },
  {
   "cell_type": "code",
   "execution_count": 53,
   "id": "4cea75e7-4270-465d-a1ce-65d04d8bff96",
   "metadata": {},
   "outputs": [],
   "source": [
    "from sklearn.model_selection import cross_val_score"
   ]
  },
  {
   "cell_type": "code",
   "execution_count": 54,
   "id": "53baf45e-1f87-4edd-bbd3-5194f60d5f73",
   "metadata": {},
   "outputs": [
    {
     "name": "stdout",
     "output_type": "stream",
     "text": [
      "LR: 0.158474 (0.008444)\n",
      "NN: 0.158722 (0.010170)\n",
      "KNN: 0.092664 (0.115335)\n",
      "RF: 0.054607 (0.149511)\n",
      "SVR: -0.218858 (0.085253)\n"
     ]
    }
   ],
   "source": [
    "results = []\n",
    "names = []\n",
    "for name, model in models:\n",
    "    #timeseries crossvalidation\n",
    "    tscv = TimeSeriesSplit(n_splits=5)\n",
    "    \n",
    "    cv_results = cross_val_score(model, X_train, y_train, cv=tscv, scoring='r2') \n",
    "    \n",
    "    results.append(cv_results)\n",
    "    names.append(name)\n",
    "    print('%s: %f (%f)' % (name, cv_results.mean(), cv_results.std()))"
   ]
  },
  {
   "cell_type": "code",
   "execution_count": 55,
   "id": "48870dac-6474-4221-9233-92289681841a",
   "metadata": {},
   "outputs": [
    {
     "data": {
      "image/png": "[encoded data removed]",
      "text/plain": [
       "<Figure size 960x320 with 1 Axes>"
      ]
     },
     "metadata": {
      "needs_background": "light"
     },
     "output_type": "display_data"
    }
   ],
   "source": [
    "plt.figure(figsize=(12,4), dpi=80)\n",
    "plt.boxplot(results, labels=names)\n",
    "plt.show()"
   ]
  },
  {
   "cell_type": "code",
   "execution_count": 56,
   "id": "46d03e1f-3fac-481b-b18b-6edf40815552",
   "metadata": {},
   "outputs": [],
   "source": [
    "from sklearn.model_selection import GridSearchCV"
   ]
  },
  {
   "cell_type": "code",
   "execution_count": 57,
   "id": "4224d36a-35ef-4a32-971f-1188c7d315a8",
   "metadata": {},
   "outputs": [],
   "source": [
    "# performing Grid Search\n",
    "model = LinearRegression()\n",
    "#param_search = {\n",
    "#    'n_estimators': [20,50,100],\n",
    "#    'max_features': ['auto', 'sqrt', 'log2'],\n",
    "#    'max_depth':[i for i in range(5,15)]\n",
    "#}\n",
    "\n",
    "param_search = {\n",
    "    'normalize': [True]\n",
    "}"
   ]
  },
  {
   "cell_type": "code",
   "execution_count": 58,
   "id": "84e4963a-6284-4490-a66f-6db732b0ad5f",
   "metadata": {},
   "outputs": [],
   "source": [
    "# Create custom scorer for the model part I\n",
    "from sklearn.metrics import make_scorer"
   ]
  },
  {
   "cell_type": "code",
   "execution_count": 59,
   "id": "e3581d03-0295-42bf-bda5-6e5ea50e1743",
   "metadata": {},
   "outputs": [],
   "source": [
    "# Create custom scorer for the model part II\n",
    "def rmse(actual, predict):\n",
    "    predict = np.array(predict)\n",
    "    actual = np.array(actual)\n",
    "    \n",
    "    distance = predict - actual\n",
    "    \n",
    "    square_distance = distance ** 2\n",
    "    \n",
    "    mean_square_distance = square_distance.mean()\n",
    "    \n",
    "    score = np.sqrt(mean_square_distance)\n",
    "    \n",
    "    return score"
   ]
  },
  {
   "cell_type": "code",
   "execution_count": 60,
   "id": "298ab4bf-0f16-48d3-8e85-443f92f882b2",
   "metadata": {},
   "outputs": [],
   "source": [
    "# Create custom scorer for the model part III\n",
    "rmse_score = make_scorer(rmse, greater_is_better=False)"
   ]
  },
  {
   "cell_type": "code",
   "execution_count": 61,
   "id": "384c8879-23b3-4bf2-93cb-bcf035886c25",
   "metadata": {},
   "outputs": [],
   "source": [
    "gsearch = GridSearchCV(estimator=model, cv=tscv, param_grid = param_search, \n",
    "                       scoring = rmse_score)"
   ]
  },
  {
   "cell_type": "code",
   "execution_count": 62,
   "id": "3c51d25b-ffd3-4621-be3b-d21e9006b113",
   "metadata": {},
   "outputs": [],
   "source": [
    "gsearch.fit(X_train, y_train)\n",
    "\n",
    "best_score = gsearch.best_score_\n",
    "best_model = gsearch.best_estimator_"
   ]
  },
  {
   "cell_type": "code",
   "execution_count": 63,
   "id": "fd36113c-6537-407f-83bd-b31c739c352e",
   "metadata": {},
   "outputs": [
    {
     "data": {
      "text/plain": [
       "-100.66632153114107"
      ]
     },
     "execution_count": 63,
     "metadata": {},
     "output_type": "execute_result"
    }
   ],
   "source": [
    "best_score"
   ]
  },
  {
   "cell_type": "code",
   "execution_count": 64,
   "id": "676f2ffe-5822-4b2e-bdf2-db988c3e80ed",
   "metadata": {},
   "outputs": [
    {
     "data": {
      "text/plain": [
       "LinearRegression(normalize=True)"
      ]
     },
     "execution_count": 64,
     "metadata": {},
     "output_type": "execute_result"
    }
   ],
   "source": [
    "best_model"
   ]
  },
  {
   "cell_type": "code",
   "execution_count": 65,
   "id": "3ba3a208-f56e-4502-8297-15837dfdd320",
   "metadata": {},
   "outputs": [
    {
     "name": "stdout",
     "output_type": "stream",
     "text": [
      "explained variance : 0.2079\n",
      "mean squared log error : 6.7712\n",
      "r2 : 0.2069\n",
      "MAE : 85.562\n",
      "MSE : 9739.6755\n",
      "RMSE : 98.6898\n"
     ]
    }
   ],
   "source": [
    "y_true = y_test.values\n",
    "y_pred = best_model.predict(X_test)\n",
    "\n",
    "regression_results(y_true, y_pred)"
   ]
  },
  {
   "cell_type": "code",
   "execution_count": 66,
   "id": "8060698c-2d03-40e7-877a-8951670909d8",
   "metadata": {},
   "outputs": [],
   "source": [
    "df_2 = df_1.copy()"
   ]
  },
  {
   "cell_type": "code",
   "execution_count": 67,
   "id": "032f08e3-f3db-4897-95da-ad43450f02fc",
   "metadata": {},
   "outputs": [],
   "source": [
    "df_2['last_week'] = df_2['order_size'].shift(7)"
   ]
  },
  {
   "cell_type": "code",
   "execution_count": 68,
   "id": "cc5dda5d-0b71-4687-afd5-8fac1270524b",
   "metadata": {},
   "outputs": [],
   "source": [
    "df_2['last_week_diff'] = df_2['last_week'].diff()"
   ]
  },
  {
   "cell_type": "code",
   "execution_count": 69,
   "id": "15a81bef-9295-4f6b-9662-299afe565a92",
   "metadata": {},
   "outputs": [],
   "source": [
    "df_2 = df_2.dropna()"
   ]
  },
  {
   "cell_type": "code",
   "execution_count": 70,
   "id": "45d31acc-85be-4351-8551-8e4a15abf462",
   "metadata": {},
   "outputs": [
    {
     "data": {
      "text/html": [
       "<div>\n",
       "<style scoped>\n",
       "    .dataframe tbody tr th:only-of-type {\n",
       "        vertical-align: middle;\n",
       "    }\n",
       "\n",
       "    .dataframe tbody tr th {\n",
       "        vertical-align: top;\n",
       "    }\n",
       "\n",
       "    .dataframe thead th {\n",
       "        text-align: right;\n",
       "    }\n",
       "</style>\n",
       "<table border=\"1\" class=\"dataframe\">\n",
       "  <thead>\n",
       "    <tr style=\"text-align: right;\">\n",
       "      <th></th>\n",
       "      <th>order_size</th>\n",
       "      <th>year</th>\n",
       "      <th>week</th>\n",
       "      <th>day</th>\n",
       "      <th>last_week</th>\n",
       "      <th>last_week_diff</th>\n",
       "    </tr>\n",
       "    <tr>\n",
       "      <th>order_load_date</th>\n",
       "      <th></th>\n",
       "      <th></th>\n",
       "      <th></th>\n",
       "      <th></th>\n",
       "      <th></th>\n",
       "      <th></th>\n",
       "    </tr>\n",
       "  </thead>\n",
       "  <tbody>\n",
       "    <tr>\n",
       "      <th>2019-01-08</th>\n",
       "      <td>137.8065</td>\n",
       "      <td>2019</td>\n",
       "      <td>2</td>\n",
       "      <td>2</td>\n",
       "      <td>0.00000</td>\n",
       "      <td>-45.37500</td>\n",
       "    </tr>\n",
       "    <tr>\n",
       "      <th>2019-01-09</th>\n",
       "      <td>0.0000</td>\n",
       "      <td>2019</td>\n",
       "      <td>2</td>\n",
       "      <td>3</td>\n",
       "      <td>221.35570</td>\n",
       "      <td>221.35570</td>\n",
       "    </tr>\n",
       "    <tr>\n",
       "      <th>2019-01-10</th>\n",
       "      <td>206.2400</td>\n",
       "      <td>2019</td>\n",
       "      <td>2</td>\n",
       "      <td>4</td>\n",
       "      <td>254.63450</td>\n",
       "      <td>33.27880</td>\n",
       "    </tr>\n",
       "    <tr>\n",
       "      <th>2019-01-11</th>\n",
       "      <td>241.4170</td>\n",
       "      <td>2019</td>\n",
       "      <td>2</td>\n",
       "      <td>5</td>\n",
       "      <td>208.07718</td>\n",
       "      <td>-46.55732</td>\n",
       "    </tr>\n",
       "    <tr>\n",
       "      <th>2019-01-12</th>\n",
       "      <td>0.0000</td>\n",
       "      <td>2019</td>\n",
       "      <td>2</td>\n",
       "      <td>6</td>\n",
       "      <td>226.09680</td>\n",
       "      <td>18.01962</td>\n",
       "    </tr>\n",
       "  </tbody>\n",
       "</table>\n",
       "</div>"
      ],
      "text/plain": [
       "                 order_size  year  week  day  last_week  last_week_diff\n",
       "order_load_date                                                        \n",
       "2019-01-08         137.8065  2019     2    2    0.00000       -45.37500\n",
       "2019-01-09           0.0000  2019     2    3  221.35570       221.35570\n",
       "2019-01-10         206.2400  2019     2    4  254.63450        33.27880\n",
       "2019-01-11         241.4170  2019     2    5  208.07718       -46.55732\n",
       "2019-01-12           0.0000  2019     2    6  226.09680        18.01962"
      ]
     },
     "execution_count": 70,
     "metadata": {},
     "output_type": "execute_result"
    }
   ],
   "source": [
    "df_2.head()"
   ]
  },
  {
   "cell_type": "code",
   "execution_count": 71,
   "id": "3074512b-464b-4ba9-84e8-a90cd38a28eb",
   "metadata": {},
   "outputs": [],
   "source": [
    "X_2 = df_2.drop(['order_size'], axis=1)\n",
    "y_2 = df_2['order_size']"
   ]
  },
  {
   "cell_type": "code",
   "execution_count": 72,
   "id": "e95c5b72-cc3d-4d73-87d5-4a77e8223447",
   "metadata": {},
   "outputs": [],
   "source": [
    "X_train_2, X_test, y_train_2, y_test = train_test_split(X_2, y_2, test_size=0.3, random_state=100)"
   ]
  },
  {
   "cell_type": "code",
   "execution_count": 73,
   "id": "45d72f56-d856-4f6b-97ea-5be828a81311",
   "metadata": {},
   "outputs": [],
   "source": [
    "# testing model on new features\n",
    "gsearch.fit(X_train_2, y_train_2)\n",
    "best_score = gsearch.best_score_\n",
    "best_model = gsearch.best_estimator_"
   ]
  },
  {
   "cell_type": "code",
   "execution_count": 74,
   "id": "4b49d8e1-fe73-48c2-8fef-f35eb43d97e8",
   "metadata": {},
   "outputs": [],
   "source": [
    "y_true = y_test.values\n",
    "y_pred = best_model.predict(X_test)"
   ]
  },
  {
   "cell_type": "code",
   "execution_count": 75,
   "id": "0f6d73cd-c4d9-478b-9e83-058506e18ed8",
   "metadata": {},
   "outputs": [
    {
     "name": "stdout",
     "output_type": "stream",
     "text": [
      "explained variance : 0.2977\n",
      "mean squared log error : 6.3153\n",
      "r2 : 0.2976\n",
      "MAE : 77.5665\n",
      "MSE : 8625.0397\n",
      "RMSE : 92.8711\n"
     ]
    }
   ],
   "source": [
    "regression_results(y_true, y_pred)"
   ]
  },
  {
   "cell_type": "code",
   "execution_count": 76,
   "id": "f73d06bb-2d6c-479e-ba30-a246188ef5d3",
   "metadata": {},
   "outputs": [
    {
     "data": {
      "text/html": [
       "<div>\n",
       "<style scoped>\n",
       "    .dataframe tbody tr th:only-of-type {\n",
       "        vertical-align: middle;\n",
       "    }\n",
       "\n",
       "    .dataframe tbody tr th {\n",
       "        vertical-align: top;\n",
       "    }\n",
       "\n",
       "    .dataframe thead th {\n",
       "        text-align: right;\n",
       "    }\n",
       "</style>\n",
       "<table border=\"1\" class=\"dataframe\">\n",
       "  <thead>\n",
       "    <tr style=\"text-align: right;\">\n",
       "      <th></th>\n",
       "      <th>order_size</th>\n",
       "      <th>year</th>\n",
       "      <th>week</th>\n",
       "      <th>day</th>\n",
       "      <th>last_week</th>\n",
       "      <th>last_week_diff</th>\n",
       "    </tr>\n",
       "    <tr>\n",
       "      <th>order_load_date</th>\n",
       "      <th></th>\n",
       "      <th></th>\n",
       "      <th></th>\n",
       "      <th></th>\n",
       "      <th></th>\n",
       "      <th></th>\n",
       "    </tr>\n",
       "  </thead>\n",
       "  <tbody>\n",
       "    <tr>\n",
       "      <th>2019-01-08</th>\n",
       "      <td>137.8065</td>\n",
       "      <td>2019</td>\n",
       "      <td>2</td>\n",
       "      <td>2</td>\n",
       "      <td>0.00000</td>\n",
       "      <td>-45.37500</td>\n",
       "    </tr>\n",
       "    <tr>\n",
       "      <th>2019-01-09</th>\n",
       "      <td>0.0000</td>\n",
       "      <td>2019</td>\n",
       "      <td>2</td>\n",
       "      <td>3</td>\n",
       "      <td>221.35570</td>\n",
       "      <td>221.35570</td>\n",
       "    </tr>\n",
       "    <tr>\n",
       "      <th>2019-01-10</th>\n",
       "      <td>206.2400</td>\n",
       "      <td>2019</td>\n",
       "      <td>2</td>\n",
       "      <td>4</td>\n",
       "      <td>254.63450</td>\n",
       "      <td>33.27880</td>\n",
       "    </tr>\n",
       "    <tr>\n",
       "      <th>2019-01-11</th>\n",
       "      <td>241.4170</td>\n",
       "      <td>2019</td>\n",
       "      <td>2</td>\n",
       "      <td>5</td>\n",
       "      <td>208.07718</td>\n",
       "      <td>-46.55732</td>\n",
       "    </tr>\n",
       "    <tr>\n",
       "      <th>2019-01-12</th>\n",
       "      <td>0.0000</td>\n",
       "      <td>2019</td>\n",
       "      <td>2</td>\n",
       "      <td>6</td>\n",
       "      <td>226.09680</td>\n",
       "      <td>18.01962</td>\n",
       "    </tr>\n",
       "    <tr>\n",
       "      <th>...</th>\n",
       "      <td>...</td>\n",
       "      <td>...</td>\n",
       "      <td>...</td>\n",
       "      <td>...</td>\n",
       "      <td>...</td>\n",
       "      <td>...</td>\n",
       "    </tr>\n",
       "    <tr>\n",
       "      <th>2021-09-29</th>\n",
       "      <td>286.0280</td>\n",
       "      <td>2021</td>\n",
       "      <td>39</td>\n",
       "      <td>3</td>\n",
       "      <td>251.38300</td>\n",
       "      <td>8.47150</td>\n",
       "    </tr>\n",
       "    <tr>\n",
       "      <th>2021-09-30</th>\n",
       "      <td>254.2270</td>\n",
       "      <td>2021</td>\n",
       "      <td>39</td>\n",
       "      <td>4</td>\n",
       "      <td>253.07300</td>\n",
       "      <td>1.69000</td>\n",
       "    </tr>\n",
       "    <tr>\n",
       "      <th>2021-10-01</th>\n",
       "      <td>0.0000</td>\n",
       "      <td>2021</td>\n",
       "      <td>39</td>\n",
       "      <td>5</td>\n",
       "      <td>212.84250</td>\n",
       "      <td>-40.23050</td>\n",
       "    </tr>\n",
       "    <tr>\n",
       "      <th>2021-10-02</th>\n",
       "      <td>233.8770</td>\n",
       "      <td>2021</td>\n",
       "      <td>39</td>\n",
       "      <td>6</td>\n",
       "      <td>0.00000</td>\n",
       "      <td>-212.84250</td>\n",
       "    </tr>\n",
       "    <tr>\n",
       "      <th>2021-10-03</th>\n",
       "      <td>314.3106</td>\n",
       "      <td>2021</td>\n",
       "      <td>39</td>\n",
       "      <td>7</td>\n",
       "      <td>4.10000</td>\n",
       "      <td>4.10000</td>\n",
       "    </tr>\n",
       "  </tbody>\n",
       "</table>\n",
       "<p>1000 rows × 6 columns</p>\n",
       "</div>"
      ],
      "text/plain": [
       "                 order_size  year  week  day  last_week  last_week_diff\n",
       "order_load_date                                                        \n",
       "2019-01-08         137.8065  2019     2    2    0.00000       -45.37500\n",
       "2019-01-09           0.0000  2019     2    3  221.35570       221.35570\n",
       "2019-01-10         206.2400  2019     2    4  254.63450        33.27880\n",
       "2019-01-11         241.4170  2019     2    5  208.07718       -46.55732\n",
       "2019-01-12           0.0000  2019     2    6  226.09680        18.01962\n",
       "...                     ...   ...   ...  ...        ...             ...\n",
       "2021-09-29         286.0280  2021    39    3  251.38300         8.47150\n",
       "2021-09-30         254.2270  2021    39    4  253.07300         1.69000\n",
       "2021-10-01           0.0000  2021    39    5  212.84250       -40.23050\n",
       "2021-10-02         233.8770  2021    39    6    0.00000      -212.84250\n",
       "2021-10-03         314.3106  2021    39    7    4.10000         4.10000\n",
       "\n",
       "[1000 rows x 6 columns]"
      ]
     },
     "execution_count": 76,
     "metadata": {},
     "output_type": "execute_result"
    }
   ],
   "source": [
    "df_2"
   ]
  },
  {
   "cell_type": "code",
   "execution_count": 77,
   "id": "38943c1d-ae30-47ee-8655-236b4adf9b36",
   "metadata": {},
   "outputs": [
    {
     "name": "stdout",
     "output_type": "stream",
     "text": [
      "Feature: 0, Score: -2.58594\n",
      "Feature: 1, Score: -0.23106\n",
      "Feature: 2, Score: -20.95122\n",
      "Feature: 3, Score: 0.19415\n",
      "Feature: 4, Score: -0.12196\n"
     ]
    },
    {
     "data": {
      "text/plain": [
       "<AxesSubplot:>"
      ]
     },
     "execution_count": 77,
     "metadata": {},
     "output_type": "execute_result"
    },
    {
     "data": {
      "image/png": "[encoded data removed]",
      "text/plain": [
       "<Figure size 432x288 with 1 Axes>"
      ]
     },
     "metadata": {
      "needs_background": "light"
     },
     "output_type": "display_data"
    }
   ],
   "source": [
    "#variable importance plot\n",
    "importance = best_model.coef_\n",
    "# summarize feature importance\n",
    "for i,v in enumerate(importance):\n",
    "\tprint('Feature: %0d, Score: %.5f' % (i,v))\n",
    "# plot feature importance\n",
    "pd.DataFrame(importance).plot()\n"
   ]
  },
  {
   "cell_type": "code",
   "execution_count": 78,
   "id": "c8bf7da4-b48b-45c0-bb3a-d8fcc0183bfa",
   "metadata": {},
   "outputs": [
    {
     "data": {
      "text/plain": [
       "array([ -2.58594018,  -0.23106331, -20.95121536,   0.1941465 ,\n",
       "        -0.12196011])"
      ]
     },
     "execution_count": 78,
     "metadata": {},
     "output_type": "execute_result"
    }
   ],
   "source": [
    "best_model.coef_"
   ]
  },
  {
   "cell_type": "code",
   "execution_count": 79,
   "id": "acb509db-35f3-4fa1-8680-04cca8a19fdd",
   "metadata": {},
   "outputs": [
    {
     "data": {
      "text/html": [
       "<div>\n",
       "<style scoped>\n",
       "    .dataframe tbody tr th:only-of-type {\n",
       "        vertical-align: middle;\n",
       "    }\n",
       "\n",
       "    .dataframe tbody tr th {\n",
       "        vertical-align: top;\n",
       "    }\n",
       "\n",
       "    .dataframe thead th {\n",
       "        text-align: right;\n",
       "    }\n",
       "</style>\n",
       "<table border=\"1\" class=\"dataframe\">\n",
       "  <thead>\n",
       "    <tr style=\"text-align: right;\">\n",
       "      <th></th>\n",
       "      <th>year</th>\n",
       "      <th>week</th>\n",
       "      <th>day</th>\n",
       "      <th>last_week</th>\n",
       "      <th>last_week_diff</th>\n",
       "    </tr>\n",
       "    <tr>\n",
       "      <th>order_load_date</th>\n",
       "      <th></th>\n",
       "      <th></th>\n",
       "      <th></th>\n",
       "      <th></th>\n",
       "      <th></th>\n",
       "    </tr>\n",
       "  </thead>\n",
       "  <tbody>\n",
       "    <tr>\n",
       "      <th>2020-03-03</th>\n",
       "      <td>2020</td>\n",
       "      <td>10</td>\n",
       "      <td>2</td>\n",
       "      <td>250.8615</td>\n",
       "      <td>43.0405</td>\n",
       "    </tr>\n",
       "    <tr>\n",
       "      <th>2019-10-13</th>\n",
       "      <td>2019</td>\n",
       "      <td>41</td>\n",
       "      <td>7</td>\n",
       "      <td>0.0000</td>\n",
       "      <td>-202.5829</td>\n",
       "    </tr>\n",
       "    <tr>\n",
       "      <th>2019-08-14</th>\n",
       "      <td>2019</td>\n",
       "      <td>33</td>\n",
       "      <td>3</td>\n",
       "      <td>246.3090</td>\n",
       "      <td>246.3090</td>\n",
       "    </tr>\n",
       "    <tr>\n",
       "      <th>2020-01-06</th>\n",
       "      <td>2020</td>\n",
       "      <td>2</td>\n",
       "      <td>1</td>\n",
       "      <td>38.7550</td>\n",
       "      <td>38.7550</td>\n",
       "    </tr>\n",
       "    <tr>\n",
       "      <th>2021-05-07</th>\n",
       "      <td>2021</td>\n",
       "      <td>18</td>\n",
       "      <td>5</td>\n",
       "      <td>255.2650</td>\n",
       "      <td>-33.6267</td>\n",
       "    </tr>\n",
       "    <tr>\n",
       "      <th>...</th>\n",
       "      <td>...</td>\n",
       "      <td>...</td>\n",
       "      <td>...</td>\n",
       "      <td>...</td>\n",
       "      <td>...</td>\n",
       "    </tr>\n",
       "    <tr>\n",
       "      <th>2021-05-12</th>\n",
       "      <td>2021</td>\n",
       "      <td>19</td>\n",
       "      <td>3</td>\n",
       "      <td>294.4575</td>\n",
       "      <td>294.2575</td>\n",
       "    </tr>\n",
       "    <tr>\n",
       "      <th>2021-05-28</th>\n",
       "      <td>2021</td>\n",
       "      <td>21</td>\n",
       "      <td>5</td>\n",
       "      <td>221.2735</td>\n",
       "      <td>-53.6225</td>\n",
       "    </tr>\n",
       "    <tr>\n",
       "      <th>2021-04-22</th>\n",
       "      <td>2021</td>\n",
       "      <td>16</td>\n",
       "      <td>4</td>\n",
       "      <td>270.3165</td>\n",
       "      <td>-8.7260</td>\n",
       "    </tr>\n",
       "    <tr>\n",
       "      <th>2021-03-10</th>\n",
       "      <td>2021</td>\n",
       "      <td>10</td>\n",
       "      <td>3</td>\n",
       "      <td>244.2860</td>\n",
       "      <td>17.6725</td>\n",
       "    </tr>\n",
       "    <tr>\n",
       "      <th>2020-06-11</th>\n",
       "      <td>2020</td>\n",
       "      <td>24</td>\n",
       "      <td>4</td>\n",
       "      <td>206.2410</td>\n",
       "      <td>-1.9520</td>\n",
       "    </tr>\n",
       "  </tbody>\n",
       "</table>\n",
       "<p>700 rows × 5 columns</p>\n",
       "</div>"
      ],
      "text/plain": [
       "                 year  week  day  last_week  last_week_diff\n",
       "order_load_date                                            \n",
       "2020-03-03       2020    10    2   250.8615         43.0405\n",
       "2019-10-13       2019    41    7     0.0000       -202.5829\n",
       "2019-08-14       2019    33    3   246.3090        246.3090\n",
       "2020-01-06       2020     2    1    38.7550         38.7550\n",
       "2021-05-07       2021    18    5   255.2650        -33.6267\n",
       "...               ...   ...  ...        ...             ...\n",
       "2021-05-12       2021    19    3   294.4575        294.2575\n",
       "2021-05-28       2021    21    5   221.2735        -53.6225\n",
       "2021-04-22       2021    16    4   270.3165         -8.7260\n",
       "2021-03-10       2021    10    3   244.2860         17.6725\n",
       "2020-06-11       2020    24    4   206.2410         -1.9520\n",
       "\n",
       "[700 rows x 5 columns]"
      ]
     },
     "execution_count": 79,
     "metadata": {},
     "output_type": "execute_result"
    }
   ],
   "source": [
    "X_train_2"
   ]
  },
  {
   "cell_type": "code",
   "execution_count": 80,
   "id": "32536b99-c951-4b3d-9e45-796e168fd607",
   "metadata": {},
   "outputs": [],
   "source": [
    "df_1.to_csv('minimal_data.csv',index=False)"
   ]
  },
  {
   "cell_type": "code",
   "execution_count": null,
   "id": "1a7451cf-26a7-4bec-923a-9f5562014b07",
   "metadata": {},
   "outputs": [],
   "source": []
  },
  {
   "cell_type": "code",
   "execution_count": null,
   "id": "fd2e0dea-58a1-4e77-a694-3271c57d7309",
   "metadata": {},
   "outputs": [],
   "source": []
  }
 ],
 "metadata": {
  "kernelspec": {
   "display_name": "Python 3",
   "language": "python",
   "name": "python3"
  },
  "language_info": {
   "codemirror_mode": {
    "name": "ipython",
    "version": 3
   },
   "file_extension": ".py",
   "mimetype": "text/x-python",
   "name": "python",
   "nbconvert_exporter": "python",
   "pygments_lexer": "ipython3",
   "version": "3.8.8"
  }
 },
 "nbformat": 4,
 "nbformat_minor": 5
}
